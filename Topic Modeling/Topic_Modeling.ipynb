{
  "nbformat": 4,
  "nbformat_minor": 0,
  "metadata": {
    "colab": {
      "provenance": []
    },
    "kernelspec": {
      "name": "python3",
      "display_name": "Python 3"
    },
    "language_info": {
      "name": "python"
    }
  },
  "cells": [
    {
      "cell_type": "markdown",
      "source": [
        "# Topic Modeling"
      ],
      "metadata": {
        "id": "JBBk5zI3fCd7"
      }
    },
    {
      "cell_type": "code",
      "source": [
        "!pip install wikipedia -U -q"
      ],
      "metadata": {
        "colab": {
          "base_uri": "https://localhost:8080/"
        },
        "id": "_hwBXrRlfBSJ",
        "outputId": "3aed0f91-be2a-41d1-91e7-61fa192e2b2b"
      },
      "execution_count": null,
      "outputs": [
        {
          "output_type": "stream",
          "name": "stdout",
          "text": [
            "  Preparing metadata (setup.py) ... \u001b[?25l\u001b[?25hdone\n",
            "  Building wheel for wikipedia (setup.py) ... \u001b[?25l\u001b[?25hdone\n"
          ]
        }
      ]
    },
    {
      "cell_type": "code",
      "execution_count": null,
      "metadata": {
        "id": "fDeLarphejC6"
      },
      "outputs": [],
      "source": [
        "import numpy as np\n",
        "import pandas as pd\n",
        "import random\n",
        "import plotly.express as px\n",
        "import wikipedia\n",
        "from sklearn.feature_extraction.text import CountVectorizer\n",
        "from sklearn.decomposition import LatentDirichletAllocation"
      ]
    },
    {
      "cell_type": "code",
      "source": [
        "wikipedia.search('Data science in healthcare',results = 10)"
      ],
      "metadata": {
        "colab": {
          "base_uri": "https://localhost:8080/"
        },
        "id": "H0-Mfe6jguqq",
        "outputId": "e4f01809-a32c-4fa9-c02c-f656bb58e94a"
      },
      "execution_count": null,
      "outputs": [
        {
          "output_type": "execute_result",
          "data": {
            "text/plain": [
              "['Artificial intelligence in healthcare',\n",
              " 'Health informatics',\n",
              " 'Healthcare in the United States',\n",
              " 'HealthCare.gov',\n",
              " 'Information science',\n",
              " 'Outline of health sciences',\n",
              " 'HCA Healthcare',\n",
              " 'Big data',\n",
              " 'Healthcare in India',\n",
              " 'Fast Healthcare Interoperability Resources']"
            ]
          },
          "metadata": {},
          "execution_count": 3
        }
      ]
    },
    {
      "cell_type": "code",
      "source": [
        "wikipedia.page('Artificial intelligence in healthcare').content"
      ],
      "metadata": {
        "colab": {
          "base_uri": "https://localhost:8080/",
          "height": 143
        },
        "id": "tDRWhHqtg6yb",
        "outputId": "55586ad0-1588-489c-82a3-9858b64c5998"
      },
      "execution_count": null,
      "outputs": [
        {
          "output_type": "execute_result",
          "data": {
            "text/plain": [
              "'Artificial intelligence in healthcare is an overarching term used to describe the use of machine-learning algorithms and software, or artificial intelligence (AI), to mimic human cognition in the analysis, presentation, and comprehension of complex medical and health care data. Specifically, AI is the ability of computer algorithms to approximate conclusions based solely on input data.\\nThe primary aim of health-related AI applications is to analyze relationships between clinical techniques and patient outcomes. AI programs are applied to practices such as diagnostics, treatment protocol development, drug development, personalized medicine, and patient monitoring and care. What differentiates AI technology from traditional technologies in healthcare is the ability to gather data, process it, and produce a well-defined output to the end-user. AI does this through machine learning algorithms and deep learning. These processes can recognize patterns in behavior and create their own logic. To gain useful insights and predictions, machine learning models must be trained using extensive amounts of input data. AI algorithms behave differently from humans in two ways: (1) algorithms are literal: once a goal is set, the algorithm learns exclusively from the input data and can only understand what it has been programmed to do, (2) and some deep learning algorithms are black boxes; algorithms can predict with extreme precision, but offer little to no comprehensible explanation to the logic behind its decisions aside from the data and type of algorithm used.As widespread use of AI in healthcare is relatively new, research is ongoing into its application in various fields of medicine and industry. Additionally, greater consideration is being given to the unprecedented ethical concerns related to its practice such as data privacy, automation of jobs, and representation biases.\\n\\n\\n== History ==\\nResearch in the 1960s and 1970s produced the first problem-solving program, or expert system, known as Dendral. While it was designed for applications in organic chemistry, it provided the basis for a subsequent system MYCIN, considered one of the most significant early uses of artificial intelligence in medicine. MYCIN and other systems such as INTERNIST-1 and CASNET did not achieve routine use by practitioners, however.The 1980s and 1990s brought the proliferation of the microcomputer and new levels of network connectivity. During this time, there was a recognition by researchers and developers that AI systems in healthcare must be designed to accommodate the absence of perfect data and build on the expertise of physicians. Approaches involving fuzzy set theory, Bayesian networks, and artificial neural networks, have been applied to intelligent computing systems in healthcare.\\nMedical and technological advancements occurring over this half-century period that have enabled the growth of healthcare-related applications of AI to include: \\n\\nImprovements in computing power resulting in faster data collection and data processing\\nGrowth of genomic sequencing databases\\nWidespread implementation of electronic health record systems\\nImprovements in natural language processing and computer vision, enabling machines to replicate human perceptual processes\\nEnhanced the precision of robot-assisted surgery\\nImprovements in deep learning techniques and data logs in rare diseasesAI algorithms can also be used to analyze large amounts of data through electronic health records for disease prevention and diagnosis. Medical institutions such as The Mayo Clinic, Memorial Sloan Kettering Cancer Center, and the British National Health Service, have developed AI algorithms for their departments. Large technology companies such as IBM and Google, have also developed AI algorithms for healthcare. Additionally, hospitals are looking to AI software to support operational initiatives that increase cost saving, improve patient satisfaction, and satisfy their staffing and workforce needs. Currently, the United States government is investing billions of dollars to progress the development of AI in healthcare. Companies are developing technologies that help healthcare managers improve business operations through increasing utilization, decreasing patient boarding, reducing length of stay and optimizing staffing levels.\\n\\n\\n== Clinical applications ==\\n\\n\\n=== Cardiovascular ===\\nArtificial intelligence algorithms have shown promising results in accurately diagnosing and risk stratifying patients with concern for coronary artery disease, showing potential as an initial triage tool, though few studies have directly compared the accuracy of machine learning models to clinician diagnostic ability. Other algorithms have been used in predicting patient mortality, medication effects, and adverse events following treatment for acute coronary syndrome. Wearables, smartphones, and internet-based technologies have also shown the ability to monitor patients\\' cardiac data points, expanding the amount of data and the various settings AI models can use and potentially enabling earlier detection of cardiac events occurring outside of the hospital. Another growing area of research is the utility of AI in classifying heart sounds and diagnosing valvular disease. Challenges of AI in cardiovascular medicine have included the limited data available to train machine learning models, such as limited data on social determinants of health as they pertain to cardiovascular disease.\\n\\n\\n=== Dermatology ===\\nDermatology is an imaging abundant speciality and the development of deep learning has been strongly tied to image processing. Therefore, there is a natural fit between the dermatology and deep learning. There are 3 main imaging types in dermatology: contextual images, macro images, micro images. For each modality, deep learning showed great progress. Han et al. showed keratinocytic skin cancer detection from face photographs. Esteva et al. demonstrated dermatologist-level classification of skin cancer from lesion images. Noyan et al. demonstrated a convolutional neural network that achieved 94% accuracy at identifying skin cells from microscopic Tzanck smear images.Recent advances have suggested the use of AI to describe and evaluate the outcome of maxillo-facial surgery or the assessment of cleft palate therapy in regard to facial attractiveness or age appearance.In 2018, a paper published in the journal Annals of Oncology mentioned that skin cancer could be detected more accurately by an artificial intelligence system (which used a deep learning convolutional neural network) than by dermatologists. On average, the human dermatologists accurately detected 86.6% of skin cancers from the images, compared to 95% for the CNN machine.\\n\\n\\n=== Gastroenterology ===\\nAI can play a role in various facets of the field of gastroenterology. Endoscopic exams such as esophagogastroduodenoscopies (EGD) and colonoscopies rely on rapid detection of abnormal tissue. By enhancing these endoscopic procedures with AI, clinicians can more rapidly identify diseases, determine their severity, and visualize blind spots. Early trials in using AI detection systems of early gastric cancer have shown sensitivity close to expert endoscopists.\\n\\n\\n=== Infectious diseases ===\\nAI has shown potential in both the laboratory and clinical spheres of infectious disease medicine. As the novel coronavirus ravages through the globe, the United States is estimated to invest more than $2 billion in AI-related healthcare research by 2025, more than 4 times the amount spent in 2019 ($463 million). Neural networks have been developed to rapidly and accurately detect a host response to COVID-19 from mass spectrometry samples. Other applications include support-vector machines identifying antimicrobial resistance, machine learning analysis of blood smears to detect malaria, and improved point-of-care testing of Lyme disease based on antigen detection. Additionally, AI has been investigated for improving diagnosis of meningitis, sepsis, and tuberculosis, as well as predicting treatment complications in hepatitis B and hepatitis C patients.\\n\\n\\n=== Oncology ===\\nAI has been explored for use in cancer diagnosis, risk stratification, molecular characterization of tumors, and cancer drug discovery. A particular challenge in oncologic care that AI is being developed to address is the ability to accurately predict which treatment protocols will be best suited for each patient based on their individual genetic, molecular, and tumor-based characteristics. Through its ability to translate images to mathematical sequences, AI has been trialed in cancer diagnostics with the reading of imaging studies and pathology slides. In January 2020, researchers demonstrated an AI system, based on a Google DeepMind algorithm, capable of surpassing human experts in breast cancer detection. In July 2020, it was reported that an AI algorithm developed by the University of Pittsburgh achieves the highest accuracy to date in identifying prostate cancer, with 98% sensitivity and 97% specificity.\\n\\n\\n=== Pathology ===\\nFor many diseases, pathological analysis of cells and tissues is considered to be the gold standard of disease diagnosis. AI-assisted pathology tools have been developed to assist with the diagnosis of a number of diseases, including breast cancer, hepatitis B, gastric cancer, and colorectal cancer. AI has also been used to predict genetic mutations and prognosticate disease outcomes. AI is well-suited for use in low-complexity pathological analysis of large-scale screening samples, such as colorectal or breast cancer screening, thus lessening the burden on pathologists and allowing for faster turnaround of sample analysis. Several deep learning and artificial neural network models have shown accuracy similar to that of human pathologists, and a study of deep learning assistance in diagnosing metastatic breast cancer in lymph nodes showed that the accuracy of humans with the assistance of a deep learning program was higher than either the humans alone or the AI program alone. Additionally, implementation of digital pathology is predicted to save over $12 million for a university center over the course of five years, though savings attributed to AI specifically have not yet been widely researched. The use of augmented and virtual reality could prove to be a stepping stone to wider implementation of AI-assisted pathology, as they can highlight areas of concern on a pathology sample and present them in real-time to a pathologist for more efficient review. AI also has the potential to identify histological findings at levels beyond what the human eye can see, and has shown the ability to utilize genotypic and phenotypic data to more accurately detect the tumor of origin for metastatic cancer. One of the major current barriers to widespread implementation of AI-assisted pathology tools is the lack of prospective, randomized, multi-center controlled trials in determining the true clinical utility of AI for pathologists and patients, highlighting a current area of need in AI and healthcare research.\\n\\n\\n=== Primary care ===\\nPrimary care has become one key development area for AI technologies. AI in primary care has been used for supporting decision making, predictive modelling, and business analytics. Despite the rapid advances in AI technologies, general practitioners\\' view on the role of AI in primary care is very limited–mainly focused on administrative and routine documentation tasks. There are only few examples of AI decision support systems that were prospectively assessed on clinical efficacy when used in practice by physicians. But there are cases where the use of these systems yielded a positive effect on treatment choice by physicians.\\n\\n\\n=== Psychiatry ===\\nIn psychiatry, AI applications are still in a phase of proof-of-concept. Areas where the evidence is widening quickly include predictive modelling of diagnosis and treatment outcomes, chatbots, conversational agents that imitate human behaviour and which have been studied for anxiety and depression.Challenges include the fact that many applications in the field are developed and proposed by private corporations, such as the screening for suicidal ideation implemented by Facebook in 2017. Such applications outside the healthcare system raise various professional, ethical and regulatory questions. Another issue is often with the validity and interpretability of the models. Small training datasets contain bias that is inherited by the models, and compromises the generalizability and stability of these models. Such models may also have the potential to be discriminatory against minority groups that are underrepresented in samples.\\n\\n\\n=== Radiology ===\\nAI is being studied within the field of radiology to detect and diagnose diseases through Computerized Tomography (CT) and Magnetic Resonance (MR) Imaging. It may be particularly useful in settings where demand for human expertise exceeds supply, or where data is too complex to be efficiently interpreted by human readers. Several deep learning models have shown the capability to be roughly as accurate as healthcare professionals in identifying diseases through medical imaging, though few of the studies reporting these findings have been externally validated. AI can also provide non-interpretive benefit to radiologists, such as reducing noise in images, creating high-quality images from lower doses of radiation, enhancing MR image quality, and automatically assessing image quality. Further research investigating the use of AI in nuclear medicine focuses on image reconstruction, anatomical landmarking, and the enablement of lower doses in imaging studies.\\n\\n\\n== Systems applications ==\\n\\n\\n=== Disease diagnosis ===\\nAn article by Jiang, et al. (2017) demonstrated that there are several types of AI techniques that have been used for a variety of different diseases, such as support vector machines, neural networks, and decision trees. Each of these techniques is described as having a \"training goal\" so \"classifications agree with the outcomes as much as possible…\".\\nTo demonstrate some specifics for disease diagnosis/classification there are two different techniques used in the classification of these diseases include using \"Artificial Neural Networks (ANN) and Bayesian Networks (BN)\". It was found that ANN was better and could more accurately classify diabetes and CVD.\\nThrough the use of Medical Learning Classifiers (MLC\\'s), Artificial Intelligence has been able to substantially aid doctors in patient diagnosis through the manipulation of mass Electronic Health Records (EHR\\'s). Medical conditions have grown more complex, and with a vast history of electronic medical records building, the likelihood of case duplication is high. Although someone today with a rare illness is less likely to be the only person to have had any given disease, the inability to access cases from similarly symptomatic origins is a major roadblock for physicians. The implementation of AI to not only help find similar cases and treatments, but also factor in chief symptoms and help the physicians ask the most appropriate questions helps the patient receive the most accurate diagnosis and treatment possible.\\n\\n\\n=== Telemedicine ===\\n\\nThe increase of telemedicine, the treatment of patients remotely, has shown the rise of possible AI applications. AI can assist in caring for patients remotely by monitoring their information through sensors. A wearable device may allow for constant monitoring of a patient and the ability to notice changes that may be less distinguishable by humans. The information can be compared to other data that has already been collected using artificial intelligence algorithms that alert physicians if there are any issues to be aware of.Another application of artificial intelligence is chat-bot therapy. Some researchers charge that the reliance on chatbots for mental healthcare does not offer the reciprocity and accountability of care that should exist in the relationship between the consumer of mental healthcare and the care provider (be it a chat-bot or psychologist), though.Since the average age has risen due to a longer life expectancy, artificial intelligence could be useful in helping take care of older populations. Tools such as environment and personal sensors can identify a person\\'s regular activities and alert a caretaker if a behavior or a measured vital is abnormal. Although the technology is useful, there are also discussions about limitations of monitoring in order to respect a person\\'s privacy since there are technologies that are designed to map out home layouts and detect human interactions.\\n\\n\\n=== Electronic health records ===\\nElectronic health records (EHR) are crucial to the digitalization and information spread of the healthcare industry. Now that around 80% of medical practices use EHR, the next step is to use artificial intelligence to interpret the records and provide new information to physicians.One application uses natural language processing (NLP) to make more succinct reports that limit the variation between medical terms by matching similar medical terms. For example, the term heart attack and myocardial infarction mean the same things, but physicians may use one over the over based on personal preferences. NLP algorithms consolidate these differences so that larger datasets can be analyzed. Another use of NLP identifies phrases that are redundant due to repetition in a physician\\'s notes and keeps the relevant information to make it easier to read. Other applications use concept processing to analyze the information entered by the current patient\\'s doctor to present similar cases and help the physician remember to include all relevant details.Beyond making content edits to an EHR, there are AI algorithms that evaluate an individual patient\\'s record and predict a risk for a disease based on their previous information and family history. One general algorithm is a rule-based system that makes decisions similarly to how humans use flow charts. This system takes in large amounts of data and creates a set of rules that connect specific observations to concluded diagnoses. Thus, the algorithm can take in a new patient\\'s data and try to predict the likeliness that they will have a certain condition or disease. Since the algorithms can evaluate a patient\\'s information based on collective data, they can find any outstanding issues to bring to a physician\\'s attention and save time. One study conducted by the Centerstone research institute found that predictive modeling of EHR data has achieved 70–72% accuracy in predicting individualized treatment response. These methods are helpful due to the fact that the amount of online health records doubles every five years. Physicians do not have the bandwidth to process all this data manually, and AI can leverage this data to assist physicians in treating their patients.\\n\\n\\n=== Drug Interactions ===\\nImprovements in natural language processing led to the development of algorithms to identify drug-drug interactions in medical literature. Drug-drug interactions pose a threat to those taking multiple medications simultaneously, and the danger increases with the number of medications being taken. To address the difficulty of tracking all known or suspected drug-drug interactions, machine learning algorithms have been created to extract information on interacting drugs and their possible effects from medical literature. Efforts were consolidated in 2013 in the DDIExtraction Challenge, in which a team of researchers at Carlos III University assembled a corpus of literature on drug-drug interactions to form a standardized test for such algorithms. Competitors were tested on their ability to accurately determine, from the text, which drugs were shown to interact and what the characteristics of their interactions were.  Researchers continue to use this corpus to standardize the measurement of the effectiveness of their algorithms.Other algorithms identify drug-drug interactions from patterns in user-generated content, especially electronic health records and/or adverse event reports. Organizations such as the FDA Adverse Event Reporting System (FAERS) and the World Health Organization\\'s VigiBase allow doctors to submit reports of possible negative reactions to medications. Deep learning algorithms have been developed to parse these reports and detect patterns that imply drug-drug interactions.\\n\\n\\n== Industry ==\\nThe trend of large health companies merging allows for greater health data accessibility. Greater health data lays the groundwork for the implementation of AI algorithms.\\nA large part of industry focus of implementation of AI in the healthcare sector is in the clinical decision support systems. As more data is collected, machine learning algorithms adapt and allow for more robust responses and solutions. Numerous companies are exploring the possibilities of the incorporation of big data in the healthcare industry. Many companies investigate the market opportunities through the realms of \"data assessment, storage, management, and analysis technologies\" which are all crucial parts of the healthcare industry.The following are examples of large companies that have contributed to AI algorithms for use in healthcare:\\n\\nIBM\\'s Watson Oncology is in development at Memorial Sloan Kettering Cancer Center and Cleveland Clinic. IBM is also working with CVS Health on AI applications in chronic disease treatment and with Johnson & Johnson on analysis of scientific papers to find new connections for drug development. In May 2017, IBM and Rensselaer Polytechnic Institute began a joint project entitled Health Empowerment by Analytics, Learning and Semantics (HEALS), to explore using AI technology to enhance healthcare.\\nMicrosoft\\'s Hanover project, in partnership with Oregon Health & Science University\\'s Knight Cancer Institute, analyzes medical research to predict the most effective cancer drug treatment options for patients. Other projects include medical image analysis of tumor progression and the development of programmable cells.\\nGoogle\\'s DeepMind platform is being used by the UK National Health Service to detect certain health risks through data collected via a mobile app. A second project with the NHS involves the analysis of medical images collected from NHS patients to develop computer vision algorithms to detect cancerous tissues.\\nTencent is working on several medical systems and services. These include AI Medical Innovation System (AIMIS), an AI-powered diagnostic medical imaging service; WeChat Intelligent Healthcare; and Tencent Doctorwork\\nIntel\\'s venture capital arm Intel Capital recently invested in startup Lumiata which uses AI to identify at-risk patients and develop care options.\\nNeuralink has come up with a next-generation neuroprosthetic which intricately interfaces with thousands of neural pathways in the brain. Their process allows a chip, roughly the size of a quarter, to be inserted in the place of a chunk of a skull by a precision surgical robot to avoid accidental injury .Digital consultant apps like use AI to give medical consultation based on personal medical history and common medical knowledge. Users report their symptoms into the app, which uses speech recognition to compare against a database of illnesses. Babylon then offers a recommended action, taking into account the user\\'s medical history. Entrepreneurs in healthcare have been effectively using seven business model archetypes to take AI solution[buzzword] to the marketplace. These archetypes depend on the value generated for the target user (e.g. patient focus vs. healthcare provider and payer focus) and value capturing mechanisms (e.g. providing information or connecting stakeholders).\\nIFlytek launched a service robot \"Xiao Man\", which integrated artificial intelligence technology to identify the registered customer and provide personalized recommendations in medical areas. It also works in the field of medical imaging. Similar robots are also being made by companies such as UBTECH (\"Cruzr\") and Softbank Robotics (\"Pepper\").\\nThe Indian startup Haptik recently developed a WhatsApp chatbot which answers questions associated with the deadly coronavirus in India.\\nWith the market for AI expanding constantly, large tech companies such as Apple, Google, Amazon, and Baidu all have their own AI research divisions, as well as millions of dollars allocated for acquisition of smaller AI based companies. Many automobile manufacturers are beginning to use machine learning healthcare in their cars as well. Companies such as BMW, GE, Tesla, Toyota, and Volvo all have new research campaigns to find ways of learning a driver\\'s vital statistics to ensure they are awake, paying attention to the road, and not under the influence of substances or in emotional distress.\\n\\n\\n== Expanding care to developing nations ==\\nArtificial intelligence continues to expand in its abilities to diagnose more people accurately in nations where fewer doctors are accessible to the public.  Many new technology companies such as SpaceX and the Raspberry Pi Foundation have enabled more developing countries to have access to computers and the internet than ever before. With the increasing capabilities of AI over the internet, advanced machine learning algorithms can allow patients to get accurately diagnosed when they would previously have no way of knowing if they had a life-threatening disease or not.Using AI in developing nations who do not have the resources will diminish the need for outsourcing and can improve patient care. AI can allow for not only diagnosis of patient is areas where healthcare is scarce, but also allow for a good patient experience by resourcing files to find the best treatment for a patient. The ability of AI to adjust course as it goes also allows the patient to have their treatment modified based on what works for them; a level of individualized care that is nearly non-existent in developing countries.\\n\\n\\n== Regulation ==\\nWhile research on the use of AI in healthcare aims to validate its efficacy in improving patient outcomes before its broader adoption, its use may nonetheless introduce several new types of risk to patients and healthcare providers, such as algorithmic bias, Do not resuscitate implications, and other machine morality issues. These challenges of the clinical use of AI has brought upon potential need for regulations.\\n\\nCurrently, there are regulations pertaining to the collection of patient data. This includes policies such as the Health Insurance Portability and Accountability Act (HIPAA) and the European General Data Protection Regulation (GDPR). The GDPR pertains to patients within the EU and details the consent requirements for patient data use when entities collect patient healthcare data. Similarly, HIPAA protects healthcare data from patient records in the United States. In May 2016, the White House announced its plan to host a series of workshops and formation of the National Science and Technology Council (NSTC) Subcommittee on Machine Learning and Artificial Intelligence. In October 2016, the group published The National Artificial Intelligence Research and Development Strategic Plan, outlining its proposed priorities for Federally-funded AI research and development (within government and academia). The report notes a strategic R&D plan for the subfield of health information technology is in development stages.The only agency that has expressed concern is the FDA. Bakul Patel, the Associate Center Director for Digital Health of the FDA, is quoted saying in May 2017:\\n\"We\\'re trying to get people who have hands-on development experience with a product\\'s full life cycle. We already have some scientists who know artificial intelligence and machine learning, but we want complementary people who can look forward and see how this technology will evolve.\"\\nThe joint ITU-WHO Focus Group on Artificial Intelligence for Health (FG-AI4H) has built a platform for the testing and benchmarking of AI applications in health domain. As of November 2018, eight use cases are being benchmarked, including assessing breast cancer risk from histopathological imagery, guiding anti-venom selection from snake images, and diagnosing skin lesions.\\nIn January 2021, the FDA published a new Action Plan, entitled Artificial Intelligence/Machine Learning[AI/ML]-Based Software as a Medical Device [SaMD] Action Plan. This plan lays out the FDA\\'s future plans for regulation of medical devices that would include artificial intelligence in their software. There are five main actions the FDA plans to take to increase regulation: 1. Tailored Regulatory Framework for Ai/M:-based SaMD, 2. Good Machine Learning Practice (GMLP), 3. Patient-Centered Approach Incorporating Transparency to Users, 4. Regulatory Science Methods Related to Algorithm Bias & Robustness, and 5. Real-World Performance(RWP). This plan was in direct response to stakeholders\\' feedback on a 2019 discussion paper also published by the FDA.\\nAccording to the U.S. Department of Health and Human Services, the Office for Civil Rights (OCR) has issued guidance on the ethical use of AI in healthcare. The guidance outlines four core ethical principles that must be followed: respect for autonomy, beneficence, non-maleficence, and justice. Respect for autonomy requires that individuals have control over their own data and decisions. Beneficence requires that AI be used to do good, such as improving the quality of care and reducing health disparities. Non-maleficence requires that AI be used to do no harm, such as avoiding discrimination in decisions. Finally, justice requires that AI be used fairly, such as using the same standards for decisions no matter a person’s race, gender, or income level. The OCR also has issued rules and regulations to protect the privacy of individuals’ health information. These regulations require healthcare providers to follow certain privacy rules when using AI. The OCR also requires healthcare providers to keep a record of how they use AI and to ensure that their AI systems are secure. Overall, the U.S. has taken steps to protect individuals’ privacy and ethical issues related to AI in healthcareThe U.S. is not the only country to develop or initiate regulations of data privacy with AI. Other countries have implemented data protection regulations, more specifically with company privacy invasions. In Denmark, the Danish Expert Group on Data Ethics has adopted recommendations on \\'Data for the Benefit of the People\\'. These recommendations are intended to encourage responsible use of data in the business sector, with a focus on data processing. The recommendations include a focus on equality and non-discrimination with regards to bias in AI, as well as human dignity. The importance of human dignity is stressed, as it is said to outweigh profit and must be respected in all data processesThe European Union has implemented the General Data Protection Regulation (GDPR) to protect citizens\\' personal data, which applies to the use of AI in healthcare. In addition, the European Commission has established guidelines to ensure the ethical development of AI, including the use of algorithms to ensure fairness and transparency. With GDPR, the European Union was the first to regulate AI through data protection legislation. The Union finds privacy as a fundamental human right, it wants to prevent unconsented and secondary uses of data by private or public health facilities. By streamlining access to personal data for health research and findings, they are able to instate the right and importance of patient privacy. In the United States, the Health Insurance Portability and Accountability Act (HIPAA) requires organizations to protect the privacy and security of patient information. The Centers for Medicare and Medicaid Services have also released guidelines for the development of AI-based medical applications.\\n\\n\\n== Ethical concerns ==\\n\\n\\n=== Data collection ===\\nIn order to effectively train Machine Learning and use AI in healthcare, massive amounts of data must be gathered. Acquiring this data, however, comes at the cost of patient privacy in most cases and is not well received publicly. For example, a survey conducted in the UK estimated that 63% of the population is uncomfortable with sharing their personal data in order to improve artificial intelligence technology. The scarcity of real, accessible patient data is a hindrance that deters the progress of developing and deploying more artificial intelligence in healthcare.\\n\\n\\n=== Automation ===\\nAccording to a recent study, AI can replace up to 35% of jobs in the UK within the next 10 to 20 years. However, of these jobs, it was concluded that AI has not eliminated any healthcare jobs so far. Though if AI were to automate healthcare related jobs, the jobs most susceptible to automation would be those dealing with digital information, radiology, and pathology, as opposed to those dealing with doctor to patient interaction.Automation can provide benefits alongside doctors as well. It is expected that doctors who take advantage of AI in healthcare will provide greater quality healthcare than doctors and medical establishments who do not. AI will likely not completely replace healthcare workers but rather give them more time to attend to their patients. AI may avert healthcare worker burnout and cognitive overload\\nAI will ultimately help contribute to progression of societal goals which include better communication, improved quality of healthcare, and autonomy.Recently, there have been many discussions between healthcare experts in terms of AI and elder care. In relation to elder care, AI bots have been helpful in guiding older residents living in assisted living with entertainment and company. These bots are allowing staff in the home to have more one-on-one time with each resident, but the bots are also programmed with more ability in what they are able to do; such as knowing different languages and different types of care depending on the patient’s conditions. The bot is an AI machine, which means it goes through the same training as any other machine - using algorithms to parse the given data, learn from it and predict the outcome in relation to what situation is at hand\\n\\n\\n=== Bias ===\\nSince AI makes decisions solely on the data it receives as input, it is important that this data represents accurate patient demographics. In a hospital setting, patients do not have full knowledge of how predictive algorithms are created or calibrated. Therefore, these medical establishments can unfairly code their algorithms to discriminate against minorities and prioritize profits rather than providing optimal care.There can also be unintended bias in these algorithms that can exacerbate social and healthcare inequities.  Since AI\\'s decisions are a direct reflection of its input data, the data it receives must have accurate representation of patient demographics. White males are overly represented in medical data sets. Therefore, having minimal patient data on minorities can lead to AI making more accurate predictions for majority populations, leading to unintended worse medical outcomes for minority populations. Collecting data from minority communities can also lead to medical discrimination. For instance, HIV is a prevalent virus among minority communities and HIV status can be used to discriminate against patients. In addition to biases that may arise from sample selection, different clinical systems used to collect data may also impact AI functionality. For example, radiographic systems and their outcomes (e.g., resolution) vary by provider. Moreover, clinician work practices, such as the positioning of the patient for radiography, can also greatly influence the data and make comparability difficult. However, these biases are able to be eliminated through careful implementation and a methodical collection of representative data.\\n\\n\\n== See also ==\\n\\n\\n== References ==\\n\\n\\n== Further reading =='"
            ],
            "application/vnd.google.colaboratory.intrinsic+json": {
              "type": "string"
            }
          },
          "metadata": {},
          "execution_count": 4
        }
      ]
    },
    {
      "cell_type": "code",
      "source": [
        "article_list = wikipedia.search('Data science in healthcare',results = 10)"
      ],
      "metadata": {
        "id": "FNY4MsfXhZ7S"
      },
      "execution_count": null,
      "outputs": []
    },
    {
      "cell_type": "code",
      "source": [
        "article_text = []\n",
        "for articles in article_list:\n",
        "  article_text.append(wikipedia.page(articles).content)"
      ],
      "metadata": {
        "id": "C6xoVPO0h63T"
      },
      "execution_count": null,
      "outputs": []
    },
    {
      "cell_type": "code",
      "source": [
        "df = pd.DataFrame(article_text,columns = ['article'])"
      ],
      "metadata": {
        "id": "9DfwLjICiSrH"
      },
      "execution_count": null,
      "outputs": []
    },
    {
      "cell_type": "code",
      "source": [
        "df['article'][0]"
      ],
      "metadata": {
        "colab": {
          "base_uri": "https://localhost:8080/",
          "height": 143
        },
        "id": "-Ayu9fZviX15",
        "outputId": "85c5b098-e004-4223-8521-2d07b6eaa2c8"
      },
      "execution_count": null,
      "outputs": [
        {
          "output_type": "execute_result",
          "data": {
            "text/plain": [
              "'Artificial intelligence in healthcare is an overarching term used to describe the use of machine-learning algorithms and software, or artificial intelligence (AI), to mimic human cognition in the analysis, presentation, and comprehension of complex medical and health care data. Specifically, AI is the ability of computer algorithms to approximate conclusions based solely on input data.\\nThe primary aim of health-related AI applications is to analyze relationships between clinical techniques and patient outcomes. AI programs are applied to practices such as diagnostics, treatment protocol development, drug development, personalized medicine, and patient monitoring and care. What differentiates AI technology from traditional technologies in healthcare is the ability to gather data, process it, and produce a well-defined output to the end-user. AI does this through machine learning algorithms and deep learning. These processes can recognize patterns in behavior and create their own logic. To gain useful insights and predictions, machine learning models must be trained using extensive amounts of input data. AI algorithms behave differently from humans in two ways: (1) algorithms are literal: once a goal is set, the algorithm learns exclusively from the input data and can only understand what it has been programmed to do, (2) and some deep learning algorithms are black boxes; algorithms can predict with extreme precision, but offer little to no comprehensible explanation to the logic behind its decisions aside from the data and type of algorithm used.As widespread use of AI in healthcare is relatively new, research is ongoing into its application in various fields of medicine and industry. Additionally, greater consideration is being given to the unprecedented ethical concerns related to its practice such as data privacy, automation of jobs, and representation biases.\\n\\n\\n== History ==\\nResearch in the 1960s and 1970s produced the first problem-solving program, or expert system, known as Dendral. While it was designed for applications in organic chemistry, it provided the basis for a subsequent system MYCIN, considered one of the most significant early uses of artificial intelligence in medicine. MYCIN and other systems such as INTERNIST-1 and CASNET did not achieve routine use by practitioners, however.The 1980s and 1990s brought the proliferation of the microcomputer and new levels of network connectivity. During this time, there was a recognition by researchers and developers that AI systems in healthcare must be designed to accommodate the absence of perfect data and build on the expertise of physicians. Approaches involving fuzzy set theory, Bayesian networks, and artificial neural networks, have been applied to intelligent computing systems in healthcare.\\nMedical and technological advancements occurring over this half-century period that have enabled the growth of healthcare-related applications of AI to include: \\n\\nImprovements in computing power resulting in faster data collection and data processing\\nGrowth of genomic sequencing databases\\nWidespread implementation of electronic health record systems\\nImprovements in natural language processing and computer vision, enabling machines to replicate human perceptual processes\\nEnhanced the precision of robot-assisted surgery\\nImprovements in deep learning techniques and data logs in rare diseasesAI algorithms can also be used to analyze large amounts of data through electronic health records for disease prevention and diagnosis. Medical institutions such as The Mayo Clinic, Memorial Sloan Kettering Cancer Center, and the British National Health Service, have developed AI algorithms for their departments. Large technology companies such as IBM and Google, have also developed AI algorithms for healthcare. Additionally, hospitals are looking to AI software to support operational initiatives that increase cost saving, improve patient satisfaction, and satisfy their staffing and workforce needs. Currently, the United States government is investing billions of dollars to progress the development of AI in healthcare. Companies are developing technologies that help healthcare managers improve business operations through increasing utilization, decreasing patient boarding, reducing length of stay and optimizing staffing levels.\\n\\n\\n== Clinical applications ==\\n\\n\\n=== Cardiovascular ===\\nArtificial intelligence algorithms have shown promising results in accurately diagnosing and risk stratifying patients with concern for coronary artery disease, showing potential as an initial triage tool, though few studies have directly compared the accuracy of machine learning models to clinician diagnostic ability. Other algorithms have been used in predicting patient mortality, medication effects, and adverse events following treatment for acute coronary syndrome. Wearables, smartphones, and internet-based technologies have also shown the ability to monitor patients\\' cardiac data points, expanding the amount of data and the various settings AI models can use and potentially enabling earlier detection of cardiac events occurring outside of the hospital. Another growing area of research is the utility of AI in classifying heart sounds and diagnosing valvular disease. Challenges of AI in cardiovascular medicine have included the limited data available to train machine learning models, such as limited data on social determinants of health as they pertain to cardiovascular disease.\\n\\n\\n=== Dermatology ===\\nDermatology is an imaging abundant speciality and the development of deep learning has been strongly tied to image processing. Therefore, there is a natural fit between the dermatology and deep learning. There are 3 main imaging types in dermatology: contextual images, macro images, micro images. For each modality, deep learning showed great progress. Han et al. showed keratinocytic skin cancer detection from face photographs. Esteva et al. demonstrated dermatologist-level classification of skin cancer from lesion images. Noyan et al. demonstrated a convolutional neural network that achieved 94% accuracy at identifying skin cells from microscopic Tzanck smear images.Recent advances have suggested the use of AI to describe and evaluate the outcome of maxillo-facial surgery or the assessment of cleft palate therapy in regard to facial attractiveness or age appearance.In 2018, a paper published in the journal Annals of Oncology mentioned that skin cancer could be detected more accurately by an artificial intelligence system (which used a deep learning convolutional neural network) than by dermatologists. On average, the human dermatologists accurately detected 86.6% of skin cancers from the images, compared to 95% for the CNN machine.\\n\\n\\n=== Gastroenterology ===\\nAI can play a role in various facets of the field of gastroenterology. Endoscopic exams such as esophagogastroduodenoscopies (EGD) and colonoscopies rely on rapid detection of abnormal tissue. By enhancing these endoscopic procedures with AI, clinicians can more rapidly identify diseases, determine their severity, and visualize blind spots. Early trials in using AI detection systems of early gastric cancer have shown sensitivity close to expert endoscopists.\\n\\n\\n=== Infectious diseases ===\\nAI has shown potential in both the laboratory and clinical spheres of infectious disease medicine. As the novel coronavirus ravages through the globe, the United States is estimated to invest more than $2 billion in AI-related healthcare research by 2025, more than 4 times the amount spent in 2019 ($463 million). Neural networks have been developed to rapidly and accurately detect a host response to COVID-19 from mass spectrometry samples. Other applications include support-vector machines identifying antimicrobial resistance, machine learning analysis of blood smears to detect malaria, and improved point-of-care testing of Lyme disease based on antigen detection. Additionally, AI has been investigated for improving diagnosis of meningitis, sepsis, and tuberculosis, as well as predicting treatment complications in hepatitis B and hepatitis C patients.\\n\\n\\n=== Oncology ===\\nAI has been explored for use in cancer diagnosis, risk stratification, molecular characterization of tumors, and cancer drug discovery. A particular challenge in oncologic care that AI is being developed to address is the ability to accurately predict which treatment protocols will be best suited for each patient based on their individual genetic, molecular, and tumor-based characteristics. Through its ability to translate images to mathematical sequences, AI has been trialed in cancer diagnostics with the reading of imaging studies and pathology slides. In January 2020, researchers demonstrated an AI system, based on a Google DeepMind algorithm, capable of surpassing human experts in breast cancer detection. In July 2020, it was reported that an AI algorithm developed by the University of Pittsburgh achieves the highest accuracy to date in identifying prostate cancer, with 98% sensitivity and 97% specificity.\\n\\n\\n=== Pathology ===\\nFor many diseases, pathological analysis of cells and tissues is considered to be the gold standard of disease diagnosis. AI-assisted pathology tools have been developed to assist with the diagnosis of a number of diseases, including breast cancer, hepatitis B, gastric cancer, and colorectal cancer. AI has also been used to predict genetic mutations and prognosticate disease outcomes. AI is well-suited for use in low-complexity pathological analysis of large-scale screening samples, such as colorectal or breast cancer screening, thus lessening the burden on pathologists and allowing for faster turnaround of sample analysis. Several deep learning and artificial neural network models have shown accuracy similar to that of human pathologists, and a study of deep learning assistance in diagnosing metastatic breast cancer in lymph nodes showed that the accuracy of humans with the assistance of a deep learning program was higher than either the humans alone or the AI program alone. Additionally, implementation of digital pathology is predicted to save over $12 million for a university center over the course of five years, though savings attributed to AI specifically have not yet been widely researched. The use of augmented and virtual reality could prove to be a stepping stone to wider implementation of AI-assisted pathology, as they can highlight areas of concern on a pathology sample and present them in real-time to a pathologist for more efficient review. AI also has the potential to identify histological findings at levels beyond what the human eye can see, and has shown the ability to utilize genotypic and phenotypic data to more accurately detect the tumor of origin for metastatic cancer. One of the major current barriers to widespread implementation of AI-assisted pathology tools is the lack of prospective, randomized, multi-center controlled trials in determining the true clinical utility of AI for pathologists and patients, highlighting a current area of need in AI and healthcare research.\\n\\n\\n=== Primary care ===\\nPrimary care has become one key development area for AI technologies. AI in primary care has been used for supporting decision making, predictive modelling, and business analytics. Despite the rapid advances in AI technologies, general practitioners\\' view on the role of AI in primary care is very limited–mainly focused on administrative and routine documentation tasks. There are only few examples of AI decision support systems that were prospectively assessed on clinical efficacy when used in practice by physicians. But there are cases where the use of these systems yielded a positive effect on treatment choice by physicians.\\n\\n\\n=== Psychiatry ===\\nIn psychiatry, AI applications are still in a phase of proof-of-concept. Areas where the evidence is widening quickly include predictive modelling of diagnosis and treatment outcomes, chatbots, conversational agents that imitate human behaviour and which have been studied for anxiety and depression.Challenges include the fact that many applications in the field are developed and proposed by private corporations, such as the screening for suicidal ideation implemented by Facebook in 2017. Such applications outside the healthcare system raise various professional, ethical and regulatory questions. Another issue is often with the validity and interpretability of the models. Small training datasets contain bias that is inherited by the models, and compromises the generalizability and stability of these models. Such models may also have the potential to be discriminatory against minority groups that are underrepresented in samples.\\n\\n\\n=== Radiology ===\\nAI is being studied within the field of radiology to detect and diagnose diseases through Computerized Tomography (CT) and Magnetic Resonance (MR) Imaging. It may be particularly useful in settings where demand for human expertise exceeds supply, or where data is too complex to be efficiently interpreted by human readers. Several deep learning models have shown the capability to be roughly as accurate as healthcare professionals in identifying diseases through medical imaging, though few of the studies reporting these findings have been externally validated. AI can also provide non-interpretive benefit to radiologists, such as reducing noise in images, creating high-quality images from lower doses of radiation, enhancing MR image quality, and automatically assessing image quality. Further research investigating the use of AI in nuclear medicine focuses on image reconstruction, anatomical landmarking, and the enablement of lower doses in imaging studies.\\n\\n\\n== Systems applications ==\\n\\n\\n=== Disease diagnosis ===\\nAn article by Jiang, et al. (2017) demonstrated that there are several types of AI techniques that have been used for a variety of different diseases, such as support vector machines, neural networks, and decision trees. Each of these techniques is described as having a \"training goal\" so \"classifications agree with the outcomes as much as possible…\".\\nTo demonstrate some specifics for disease diagnosis/classification there are two different techniques used in the classification of these diseases include using \"Artificial Neural Networks (ANN) and Bayesian Networks (BN)\". It was found that ANN was better and could more accurately classify diabetes and CVD.\\nThrough the use of Medical Learning Classifiers (MLC\\'s), Artificial Intelligence has been able to substantially aid doctors in patient diagnosis through the manipulation of mass Electronic Health Records (EHR\\'s). Medical conditions have grown more complex, and with a vast history of electronic medical records building, the likelihood of case duplication is high. Although someone today with a rare illness is less likely to be the only person to have had any given disease, the inability to access cases from similarly symptomatic origins is a major roadblock for physicians. The implementation of AI to not only help find similar cases and treatments, but also factor in chief symptoms and help the physicians ask the most appropriate questions helps the patient receive the most accurate diagnosis and treatment possible.\\n\\n\\n=== Telemedicine ===\\n\\nThe increase of telemedicine, the treatment of patients remotely, has shown the rise of possible AI applications. AI can assist in caring for patients remotely by monitoring their information through sensors. A wearable device may allow for constant monitoring of a patient and the ability to notice changes that may be less distinguishable by humans. The information can be compared to other data that has already been collected using artificial intelligence algorithms that alert physicians if there are any issues to be aware of.Another application of artificial intelligence is chat-bot therapy. Some researchers charge that the reliance on chatbots for mental healthcare does not offer the reciprocity and accountability of care that should exist in the relationship between the consumer of mental healthcare and the care provider (be it a chat-bot or psychologist), though.Since the average age has risen due to a longer life expectancy, artificial intelligence could be useful in helping take care of older populations. Tools such as environment and personal sensors can identify a person\\'s regular activities and alert a caretaker if a behavior or a measured vital is abnormal. Although the technology is useful, there are also discussions about limitations of monitoring in order to respect a person\\'s privacy since there are technologies that are designed to map out home layouts and detect human interactions.\\n\\n\\n=== Electronic health records ===\\nElectronic health records (EHR) are crucial to the digitalization and information spread of the healthcare industry. Now that around 80% of medical practices use EHR, the next step is to use artificial intelligence to interpret the records and provide new information to physicians.One application uses natural language processing (NLP) to make more succinct reports that limit the variation between medical terms by matching similar medical terms. For example, the term heart attack and myocardial infarction mean the same things, but physicians may use one over the over based on personal preferences. NLP algorithms consolidate these differences so that larger datasets can be analyzed. Another use of NLP identifies phrases that are redundant due to repetition in a physician\\'s notes and keeps the relevant information to make it easier to read. Other applications use concept processing to analyze the information entered by the current patient\\'s doctor to present similar cases and help the physician remember to include all relevant details.Beyond making content edits to an EHR, there are AI algorithms that evaluate an individual patient\\'s record and predict a risk for a disease based on their previous information and family history. One general algorithm is a rule-based system that makes decisions similarly to how humans use flow charts. This system takes in large amounts of data and creates a set of rules that connect specific observations to concluded diagnoses. Thus, the algorithm can take in a new patient\\'s data and try to predict the likeliness that they will have a certain condition or disease. Since the algorithms can evaluate a patient\\'s information based on collective data, they can find any outstanding issues to bring to a physician\\'s attention and save time. One study conducted by the Centerstone research institute found that predictive modeling of EHR data has achieved 70–72% accuracy in predicting individualized treatment response. These methods are helpful due to the fact that the amount of online health records doubles every five years. Physicians do not have the bandwidth to process all this data manually, and AI can leverage this data to assist physicians in treating their patients.\\n\\n\\n=== Drug Interactions ===\\nImprovements in natural language processing led to the development of algorithms to identify drug-drug interactions in medical literature. Drug-drug interactions pose a threat to those taking multiple medications simultaneously, and the danger increases with the number of medications being taken. To address the difficulty of tracking all known or suspected drug-drug interactions, machine learning algorithms have been created to extract information on interacting drugs and their possible effects from medical literature. Efforts were consolidated in 2013 in the DDIExtraction Challenge, in which a team of researchers at Carlos III University assembled a corpus of literature on drug-drug interactions to form a standardized test for such algorithms. Competitors were tested on their ability to accurately determine, from the text, which drugs were shown to interact and what the characteristics of their interactions were.  Researchers continue to use this corpus to standardize the measurement of the effectiveness of their algorithms.Other algorithms identify drug-drug interactions from patterns in user-generated content, especially electronic health records and/or adverse event reports. Organizations such as the FDA Adverse Event Reporting System (FAERS) and the World Health Organization\\'s VigiBase allow doctors to submit reports of possible negative reactions to medications. Deep learning algorithms have been developed to parse these reports and detect patterns that imply drug-drug interactions.\\n\\n\\n== Industry ==\\nThe trend of large health companies merging allows for greater health data accessibility. Greater health data lays the groundwork for the implementation of AI algorithms.\\nA large part of industry focus of implementation of AI in the healthcare sector is in the clinical decision support systems. As more data is collected, machine learning algorithms adapt and allow for more robust responses and solutions. Numerous companies are exploring the possibilities of the incorporation of big data in the healthcare industry. Many companies investigate the market opportunities through the realms of \"data assessment, storage, management, and analysis technologies\" which are all crucial parts of the healthcare industry.The following are examples of large companies that have contributed to AI algorithms for use in healthcare:\\n\\nIBM\\'s Watson Oncology is in development at Memorial Sloan Kettering Cancer Center and Cleveland Clinic. IBM is also working with CVS Health on AI applications in chronic disease treatment and with Johnson & Johnson on analysis of scientific papers to find new connections for drug development. In May 2017, IBM and Rensselaer Polytechnic Institute began a joint project entitled Health Empowerment by Analytics, Learning and Semantics (HEALS), to explore using AI technology to enhance healthcare.\\nMicrosoft\\'s Hanover project, in partnership with Oregon Health & Science University\\'s Knight Cancer Institute, analyzes medical research to predict the most effective cancer drug treatment options for patients. Other projects include medical image analysis of tumor progression and the development of programmable cells.\\nGoogle\\'s DeepMind platform is being used by the UK National Health Service to detect certain health risks through data collected via a mobile app. A second project with the NHS involves the analysis of medical images collected from NHS patients to develop computer vision algorithms to detect cancerous tissues.\\nTencent is working on several medical systems and services. These include AI Medical Innovation System (AIMIS), an AI-powered diagnostic medical imaging service; WeChat Intelligent Healthcare; and Tencent Doctorwork\\nIntel\\'s venture capital arm Intel Capital recently invested in startup Lumiata which uses AI to identify at-risk patients and develop care options.\\nNeuralink has come up with a next-generation neuroprosthetic which intricately interfaces with thousands of neural pathways in the brain. Their process allows a chip, roughly the size of a quarter, to be inserted in the place of a chunk of a skull by a precision surgical robot to avoid accidental injury .Digital consultant apps like use AI to give medical consultation based on personal medical history and common medical knowledge. Users report their symptoms into the app, which uses speech recognition to compare against a database of illnesses. Babylon then offers a recommended action, taking into account the user\\'s medical history. Entrepreneurs in healthcare have been effectively using seven business model archetypes to take AI solution[buzzword] to the marketplace. These archetypes depend on the value generated for the target user (e.g. patient focus vs. healthcare provider and payer focus) and value capturing mechanisms (e.g. providing information or connecting stakeholders).\\nIFlytek launched a service robot \"Xiao Man\", which integrated artificial intelligence technology to identify the registered customer and provide personalized recommendations in medical areas. It also works in the field of medical imaging. Similar robots are also being made by companies such as UBTECH (\"Cruzr\") and Softbank Robotics (\"Pepper\").\\nThe Indian startup Haptik recently developed a WhatsApp chatbot which answers questions associated with the deadly coronavirus in India.\\nWith the market for AI expanding constantly, large tech companies such as Apple, Google, Amazon, and Baidu all have their own AI research divisions, as well as millions of dollars allocated for acquisition of smaller AI based companies. Many automobile manufacturers are beginning to use machine learning healthcare in their cars as well. Companies such as BMW, GE, Tesla, Toyota, and Volvo all have new research campaigns to find ways of learning a driver\\'s vital statistics to ensure they are awake, paying attention to the road, and not under the influence of substances or in emotional distress.\\n\\n\\n== Expanding care to developing nations ==\\nArtificial intelligence continues to expand in its abilities to diagnose more people accurately in nations where fewer doctors are accessible to the public.  Many new technology companies such as SpaceX and the Raspberry Pi Foundation have enabled more developing countries to have access to computers and the internet than ever before. With the increasing capabilities of AI over the internet, advanced machine learning algorithms can allow patients to get accurately diagnosed when they would previously have no way of knowing if they had a life-threatening disease or not.Using AI in developing nations who do not have the resources will diminish the need for outsourcing and can improve patient care. AI can allow for not only diagnosis of patient is areas where healthcare is scarce, but also allow for a good patient experience by resourcing files to find the best treatment for a patient. The ability of AI to adjust course as it goes also allows the patient to have their treatment modified based on what works for them; a level of individualized care that is nearly non-existent in developing countries.\\n\\n\\n== Regulation ==\\nWhile research on the use of AI in healthcare aims to validate its efficacy in improving patient outcomes before its broader adoption, its use may nonetheless introduce several new types of risk to patients and healthcare providers, such as algorithmic bias, Do not resuscitate implications, and other machine morality issues. These challenges of the clinical use of AI has brought upon potential need for regulations.\\n\\nCurrently, there are regulations pertaining to the collection of patient data. This includes policies such as the Health Insurance Portability and Accountability Act (HIPAA) and the European General Data Protection Regulation (GDPR). The GDPR pertains to patients within the EU and details the consent requirements for patient data use when entities collect patient healthcare data. Similarly, HIPAA protects healthcare data from patient records in the United States. In May 2016, the White House announced its plan to host a series of workshops and formation of the National Science and Technology Council (NSTC) Subcommittee on Machine Learning and Artificial Intelligence. In October 2016, the group published The National Artificial Intelligence Research and Development Strategic Plan, outlining its proposed priorities for Federally-funded AI research and development (within government and academia). The report notes a strategic R&D plan for the subfield of health information technology is in development stages.The only agency that has expressed concern is the FDA. Bakul Patel, the Associate Center Director for Digital Health of the FDA, is quoted saying in May 2017:\\n\"We\\'re trying to get people who have hands-on development experience with a product\\'s full life cycle. We already have some scientists who know artificial intelligence and machine learning, but we want complementary people who can look forward and see how this technology will evolve.\"\\nThe joint ITU-WHO Focus Group on Artificial Intelligence for Health (FG-AI4H) has built a platform for the testing and benchmarking of AI applications in health domain. As of November 2018, eight use cases are being benchmarked, including assessing breast cancer risk from histopathological imagery, guiding anti-venom selection from snake images, and diagnosing skin lesions.\\nIn January 2021, the FDA published a new Action Plan, entitled Artificial Intelligence/Machine Learning[AI/ML]-Based Software as a Medical Device [SaMD] Action Plan. This plan lays out the FDA\\'s future plans for regulation of medical devices that would include artificial intelligence in their software. There are five main actions the FDA plans to take to increase regulation: 1. Tailored Regulatory Framework for Ai/M:-based SaMD, 2. Good Machine Learning Practice (GMLP), 3. Patient-Centered Approach Incorporating Transparency to Users, 4. Regulatory Science Methods Related to Algorithm Bias & Robustness, and 5. Real-World Performance(RWP). This plan was in direct response to stakeholders\\' feedback on a 2019 discussion paper also published by the FDA.\\nAccording to the U.S. Department of Health and Human Services, the Office for Civil Rights (OCR) has issued guidance on the ethical use of AI in healthcare. The guidance outlines four core ethical principles that must be followed: respect for autonomy, beneficence, non-maleficence, and justice. Respect for autonomy requires that individuals have control over their own data and decisions. Beneficence requires that AI be used to do good, such as improving the quality of care and reducing health disparities. Non-maleficence requires that AI be used to do no harm, such as avoiding discrimination in decisions. Finally, justice requires that AI be used fairly, such as using the same standards for decisions no matter a person’s race, gender, or income level. The OCR also has issued rules and regulations to protect the privacy of individuals’ health information. These regulations require healthcare providers to follow certain privacy rules when using AI. The OCR also requires healthcare providers to keep a record of how they use AI and to ensure that their AI systems are secure. Overall, the U.S. has taken steps to protect individuals’ privacy and ethical issues related to AI in healthcareThe U.S. is not the only country to develop or initiate regulations of data privacy with AI. Other countries have implemented data protection regulations, more specifically with company privacy invasions. In Denmark, the Danish Expert Group on Data Ethics has adopted recommendations on \\'Data for the Benefit of the People\\'. These recommendations are intended to encourage responsible use of data in the business sector, with a focus on data processing. The recommendations include a focus on equality and non-discrimination with regards to bias in AI, as well as human dignity. The importance of human dignity is stressed, as it is said to outweigh profit and must be respected in all data processesThe European Union has implemented the General Data Protection Regulation (GDPR) to protect citizens\\' personal data, which applies to the use of AI in healthcare. In addition, the European Commission has established guidelines to ensure the ethical development of AI, including the use of algorithms to ensure fairness and transparency. With GDPR, the European Union was the first to regulate AI through data protection legislation. The Union finds privacy as a fundamental human right, it wants to prevent unconsented and secondary uses of data by private or public health facilities. By streamlining access to personal data for health research and findings, they are able to instate the right and importance of patient privacy. In the United States, the Health Insurance Portability and Accountability Act (HIPAA) requires organizations to protect the privacy and security of patient information. The Centers for Medicare and Medicaid Services have also released guidelines for the development of AI-based medical applications.\\n\\n\\n== Ethical concerns ==\\n\\n\\n=== Data collection ===\\nIn order to effectively train Machine Learning and use AI in healthcare, massive amounts of data must be gathered. Acquiring this data, however, comes at the cost of patient privacy in most cases and is not well received publicly. For example, a survey conducted in the UK estimated that 63% of the population is uncomfortable with sharing their personal data in order to improve artificial intelligence technology. The scarcity of real, accessible patient data is a hindrance that deters the progress of developing and deploying more artificial intelligence in healthcare.\\n\\n\\n=== Automation ===\\nAccording to a recent study, AI can replace up to 35% of jobs in the UK within the next 10 to 20 years. However, of these jobs, it was concluded that AI has not eliminated any healthcare jobs so far. Though if AI were to automate healthcare related jobs, the jobs most susceptible to automation would be those dealing with digital information, radiology, and pathology, as opposed to those dealing with doctor to patient interaction.Automation can provide benefits alongside doctors as well. It is expected that doctors who take advantage of AI in healthcare will provide greater quality healthcare than doctors and medical establishments who do not. AI will likely not completely replace healthcare workers but rather give them more time to attend to their patients. AI may avert healthcare worker burnout and cognitive overload\\nAI will ultimately help contribute to progression of societal goals which include better communication, improved quality of healthcare, and autonomy.Recently, there have been many discussions between healthcare experts in terms of AI and elder care. In relation to elder care, AI bots have been helpful in guiding older residents living in assisted living with entertainment and company. These bots are allowing staff in the home to have more one-on-one time with each resident, but the bots are also programmed with more ability in what they are able to do; such as knowing different languages and different types of care depending on the patient’s conditions. The bot is an AI machine, which means it goes through the same training as any other machine - using algorithms to parse the given data, learn from it and predict the outcome in relation to what situation is at hand\\n\\n\\n=== Bias ===\\nSince AI makes decisions solely on the data it receives as input, it is important that this data represents accurate patient demographics. In a hospital setting, patients do not have full knowledge of how predictive algorithms are created or calibrated. Therefore, these medical establishments can unfairly code their algorithms to discriminate against minorities and prioritize profits rather than providing optimal care.There can also be unintended bias in these algorithms that can exacerbate social and healthcare inequities.  Since AI\\'s decisions are a direct reflection of its input data, the data it receives must have accurate representation of patient demographics. White males are overly represented in medical data sets. Therefore, having minimal patient data on minorities can lead to AI making more accurate predictions for majority populations, leading to unintended worse medical outcomes for minority populations. Collecting data from minority communities can also lead to medical discrimination. For instance, HIV is a prevalent virus among minority communities and HIV status can be used to discriminate against patients. In addition to biases that may arise from sample selection, different clinical systems used to collect data may also impact AI functionality. For example, radiographic systems and their outcomes (e.g., resolution) vary by provider. Moreover, clinician work practices, such as the positioning of the patient for radiography, can also greatly influence the data and make comparability difficult. However, these biases are able to be eliminated through careful implementation and a methodical collection of representative data.\\n\\n\\n== See also ==\\n\\n\\n== References ==\\n\\n\\n== Further reading =='"
            ],
            "application/vnd.google.colaboratory.intrinsic+json": {
              "type": "string"
            }
          },
          "metadata": {},
          "execution_count": 8
        }
      ]
    },
    {
      "cell_type": "code",
      "source": [
        "count_vec = CountVectorizer()"
      ],
      "metadata": {
        "id": "yogGiXn6ikU9"
      },
      "execution_count": null,
      "outputs": []
    },
    {
      "cell_type": "code",
      "source": [
        "import nltk\n",
        "from nltk.tokenize import word_tokenize\n",
        "from nltk.corpus import stopwords\n",
        "from nltk.stem import PorterStemmer\n",
        "from nltk.stem import WordNetLemmatizer\n",
        "import string\n",
        "nltk.download('stopwords')\n",
        "nltk.download('wordnet')\n",
        "nltk.download('punkt')\n",
        "nltk.download('omw-1.4')\n",
        "stop_words = set(stopwords.words(\"english\"))\n",
        "\n",
        "\n",
        "# Lowercasing\n",
        "text = df['article'][0]\n",
        "text = text.lower()\n",
        "print(text)\n",
        "\n",
        "# Removing punctuation\n",
        "# text = \"This is a sample text.\"\n",
        "text = text.translate(text.maketrans(\"\", \"\", string.punctuation))\n",
        "print(text)\n",
        "\n",
        "# Removing stop words\n",
        "stop_words = set(stopwords.words(\"english\"))\n",
        "filtered_text = \" \".join([word for word in text.split() if word not in stop_words])\n",
        "print(filtered_text)\n",
        "\n",
        "# Stemming and it's type\n",
        "#Porter Stemmer\n",
        "#Lancaster Stemmer\n",
        "#Snowball Stemmer\n",
        "\n",
        "\n",
        "stemmer = PorterStemmer()\n",
        "stemmed_text = \" \".join([stemmer.stem(word) for word in filtered_text.split()])\n",
        "print(stemmed_text)\n",
        "\n",
        "# Lemmatization\n",
        "lemmatizer = WordNetLemmatizer()\n",
        "lemmatized_text = \" \".join([lemmatizer.lemmatize(word) for word in filtered_text.split()])\n",
        "print(lemmatized_text)"
      ],
      "metadata": {
        "id": "-qALj6NOj7KK"
      },
      "execution_count": null,
      "outputs": []
    },
    {
      "cell_type": "code",
      "source": [
        "from sklearn.pipeline import Pipeline"
      ],
      "metadata": {
        "id": "pv-VdlGIlMeN"
      },
      "execution_count": null,
      "outputs": []
    },
    {
      "cell_type": "code",
      "source": [
        "class LowercaseTransformer():\n",
        "    def transform(self, X, **transform_params):\n",
        "        return X.lower()\n",
        "    def fit(self, X, y=None, **fit_params):\n",
        "        return self\n",
        "\n",
        "class remove_punctuation():\n",
        "    def transform(self, X, **transform_params):\n",
        "        return X.translate(X.maketrans(\"\", \"\", string.punctuation))\n",
        "    def fit(self, X, y=None, **fit_params):\n",
        "        return self\n",
        "        \n",
        "class remove_stopwords():\n",
        "    def transform(self, X, **transform_params):\n",
        "        return \" \".join([word for word in X.split() if word not in stop_words])\n",
        "    def fit(self, X, y=None, **fit_params):\n",
        "        return self\n",
        "\n",
        "class Lemmatizer():\n",
        "    def transform(self, X, **transform_params):\n",
        "        return \" \".join([lemmatizer.lemmatize(word,pos = 'v') for word in X.split()])\n",
        "    def fit(self, X, y=None, **fit_params):\n",
        "        return self\n",
        "\n",
        "class Stemming():\n",
        "    def transform(self, X, **transform_params):\n",
        "        return \" \".join([stemmer.stem(word) for word in X.split()])\n",
        "    def fit(self, X, y=None, **fit_params):\n",
        "        return self"
      ],
      "metadata": {
        "id": "V9juQKVem0FU"
      },
      "execution_count": null,
      "outputs": []
    },
    {
      "cell_type": "code",
      "source": [
        "pipeline = Pipeline([\n",
        "    ('lower', LowercaseTransformer())\n",
        "    ,('punct', remove_punctuation())\n",
        "    ,('remsw',remove_stopwords())\n",
        "    ,('Lem',Lemmatizer())\n",
        "])"
      ],
      "metadata": {
        "id": "iv5su7IMlvIx"
      },
      "execution_count": null,
      "outputs": []
    },
    {
      "cell_type": "code",
      "source": [
        "preprocessed_texts = pipeline.fit_transform(df['article'][0])"
      ],
      "metadata": {
        "id": "Nh_Xl1cTnrUb"
      },
      "execution_count": null,
      "outputs": []
    },
    {
      "cell_type": "code",
      "source": [
        "preprocessed_texts"
      ],
      "metadata": {
        "colab": {
          "base_uri": "https://localhost:8080/",
          "height": 143
        },
        "id": "oRTntZ4OoKb1",
        "outputId": "684eb814-410f-4f37-8f09-70ae65679a9a"
      },
      "execution_count": null,
      "outputs": [
        {
          "output_type": "execute_result",
          "data": {
            "text/plain": [
              "'artificial intelligence healthcare overarch term use describe use machinelearning algorithms software artificial intelligence ai mimic human cognition analysis presentation comprehension complex medical health care data specifically ai ability computer algorithms approximate conclusions base solely input data primary aim healthrelated ai applications analyze relationships clinical techniques patient outcomes ai program apply practice diagnostics treatment protocol development drug development personalize medicine patient monitor care differentiate ai technology traditional technologies healthcare ability gather data process produce welldefined output enduser ai machine learn algorithms deep learn process recognize pattern behavior create logic gain useful insights predictions machine learn model must train use extensive amount input data ai algorithms behave differently humans two ways 1 algorithms literal goal set algorithm learn exclusively input data understand program 2 deep learn algorithms black box algorithms predict extreme precision offer little comprehensible explanation logic behind decisions aside data type algorithm usedas widespread use ai healthcare relatively new research ongoing application various field medicine industry additionally greater consideration give unprecedented ethical concern relate practice data privacy automation job representation bias history research 1960s 1970s produce first problemsolving program expert system know dendral design applications organic chemistry provide basis subsequent system mycin consider one significant early use artificial intelligence medicine mycin systems internist1 casnet achieve routine use practitioners howeverthe 1980s 1990s bring proliferation microcomputer new level network connectivity time recognition researchers developers ai systems healthcare must design accommodate absence perfect data build expertise physicians approach involve fuzzy set theory bayesian network artificial neural network apply intelligent compute systems healthcare medical technological advancements occur halfcentury period enable growth healthcarerelated applications ai include improvements compute power result faster data collection data process growth genomic sequence databases widespread implementation electronic health record systems improvements natural language process computer vision enable machine replicate human perceptual process enhance precision robotassisted surgery improvements deep learn techniques data log rare diseasesai algorithms also use analyze large amount data electronic health record disease prevention diagnosis medical institutions mayo clinic memorial sloan kettering cancer center british national health service develop ai algorithms departments large technology company ibm google also develop ai algorithms healthcare additionally hospitals look ai software support operational initiatives increase cost save improve patient satisfaction satisfy staff workforce need currently unite state government invest billions dollars progress development ai healthcare company develop technologies help healthcare managers improve business operations increase utilization decrease patient board reduce length stay optimize staff level clinical applications cardiovascular artificial intelligence algorithms show promise result accurately diagnose risk stratify patients concern coronary artery disease show potential initial triage tool though study directly compare accuracy machine learn model clinician diagnostic ability algorithms use predict patient mortality medication effect adverse events follow treatment acute coronary syndrome wearables smartphones internetbased technologies also show ability monitor patients cardiac data point expand amount data various settings ai model use potentially enable earlier detection cardiac events occur outside hospital another grow area research utility ai classify heart sound diagnose valvular disease challenge ai cardiovascular medicine include limit data available train machine learn model limit data social determinants health pertain cardiovascular disease dermatology dermatology image abundant speciality development deep learn strongly tie image process therefore natural fit dermatology deep learn 3 main image type dermatology contextual image macro image micro image modality deep learn show great progress han et al show keratinocytic skin cancer detection face photograph esteva et al demonstrate dermatologistlevel classification skin cancer lesion image noyan et al demonstrate convolutional neural network achieve 94 accuracy identify skin cells microscopic tzanck smear imagesrecent advance suggest use ai describe evaluate outcome maxillofacial surgery assessment cleave palate therapy regard facial attractiveness age appearancein 2018 paper publish journal annals oncology mention skin cancer could detect accurately artificial intelligence system use deep learn convolutional neural network dermatologists average human dermatologists accurately detect 866 skin cancers image compare 95 cnn machine gastroenterology ai play role various facets field gastroenterology endoscopic exams esophagogastroduodenoscopies egd colonoscopies rely rapid detection abnormal tissue enhance endoscopic procedures ai clinicians rapidly identify diseases determine severity visualize blind spot early trials use ai detection systems early gastric cancer show sensitivity close expert endoscopists infectious diseases ai show potential laboratory clinical spheres infectious disease medicine novel coronavirus ravage globe unite state estimate invest 2 billion airelated healthcare research 2025 4 time amount spend 2019 463 million neural network develop rapidly accurately detect host response covid19 mass spectrometry sample applications include supportvector machine identify antimicrobial resistance machine learn analysis blood smear detect malaria improve pointofcare test lyme disease base antigen detection additionally ai investigate improve diagnosis meningitis sepsis tuberculosis well predict treatment complications hepatitis b hepatitis c patients oncology ai explore use cancer diagnosis risk stratification molecular characterization tumors cancer drug discovery particular challenge oncologic care ai develop address ability accurately predict treatment protocols best suit patient base individual genetic molecular tumorbased characteristics ability translate image mathematical sequence ai trialed cancer diagnostics read image study pathology slide january 2020 researchers demonstrate ai system base google deepmind algorithm capable surpass human experts breast cancer detection july 2020 report ai algorithm develop university pittsburgh achieve highest accuracy date identify prostate cancer 98 sensitivity 97 specificity pathology many diseases pathological analysis cells tissue consider gold standard disease diagnosis aiassisted pathology tool develop assist diagnosis number diseases include breast cancer hepatitis b gastric cancer colorectal cancer ai also use predict genetic mutations prognosticate disease outcomes ai wellsuited use lowcomplexity pathological analysis largescale screen sample colorectal breast cancer screen thus lessen burden pathologists allow faster turnaround sample analysis several deep learn artificial neural network model show accuracy similar human pathologists study deep learn assistance diagnose metastatic breast cancer lymph nod show accuracy humans assistance deep learn program higher either humans alone ai program alone additionally implementation digital pathology predict save 12 million university center course five years though save attribute ai specifically yet widely research use augment virtual reality could prove step stone wider implementation aiassisted pathology highlight areas concern pathology sample present realtime pathologist efficient review ai also potential identify histological find level beyond human eye see show ability utilize genotypic phenotypic data accurately detect tumor origin metastatic cancer one major current barriers widespread implementation aiassisted pathology tool lack prospective randomize multicenter control trials determine true clinical utility ai pathologists patients highlight current area need ai healthcare research primary care primary care become one key development area ai technologies ai primary care use support decision make predictive model business analytics despite rapid advance ai technologies general practitioners view role ai primary care limited–mainly focus administrative routine documentation task examples ai decision support systems prospectively assess clinical efficacy use practice physicians case use systems yield positive effect treatment choice physicians psychiatry psychiatry ai applications still phase proofofconcept areas evidence widen quickly include predictive model diagnosis treatment outcomes chatbots conversational agents imitate human behaviour study anxiety depressionchallenges include fact many applications field develop propose private corporations screen suicidal ideation implement facebook 2017 applications outside healthcare system raise various professional ethical regulatory question another issue often validity interpretability model small train datasets contain bias inherit model compromise generalizability stability model model may also potential discriminatory minority group underrepresented sample radiology ai study within field radiology detect diagnose diseases computerize tomography ct magnetic resonance mr image may particularly useful settings demand human expertise exceed supply data complex efficiently interpret human readers several deep learn model show capability roughly accurate healthcare professionals identify diseases medical image though study report find externally validate ai also provide noninterpretive benefit radiologists reduce noise image create highquality image lower dose radiation enhance mr image quality automatically assess image quality research investigate use ai nuclear medicine focus image reconstruction anatomical landmarking enablement lower dose image study systems applications disease diagnosis article jiang et al 2017 demonstrate several type ai techniques use variety different diseases support vector machine neural network decision tree techniques describe train goal classifications agree outcomes much possible… demonstrate specifics disease diagnosisclassification two different techniques use classification diseases include use artificial neural network ann bayesian network bn find ann better could accurately classify diabetes cvd use medical learn classifiers mlcs artificial intelligence able substantially aid doctor patient diagnosis manipulation mass electronic health record ehrs medical condition grow complex vast history electronic medical record build likelihood case duplication high although someone today rare illness less likely person give disease inability access case similarly symptomatic origins major roadblock physicians implementation ai help find similar case treatments also factor chief symptoms help physicians ask appropriate question help patient receive accurate diagnosis treatment possible telemedicine increase telemedicine treatment patients remotely show rise possible ai applications ai assist care patients remotely monitor information sensors wearable device may allow constant monitor patient ability notice change may less distinguishable humans information compare data already collect use artificial intelligence algorithms alert physicians issue aware ofanother application artificial intelligence chatbot therapy researchers charge reliance chatbots mental healthcare offer reciprocity accountability care exist relationship consumer mental healthcare care provider chatbot psychologist thoughsince average age rise due longer life expectancy artificial intelligence could useful help take care older populations tool environment personal sensors identify persons regular activities alert caretaker behavior measure vital abnormal although technology useful also discussions limitations monitor order respect persons privacy since technologies design map home layouts detect human interactions electronic health record electronic health record ehr crucial digitalization information spread healthcare industry around 80 medical practice use ehr next step use artificial intelligence interpret record provide new information physiciansone application use natural language process nlp make succinct report limit variation medical term match similar medical term example term heart attack myocardial infarction mean things physicians may use one base personal preferences nlp algorithms consolidate differences larger datasets analyze another use nlp identify phrase redundant due repetition physicians note keep relevant information make easier read applications use concept process analyze information enter current patients doctor present similar case help physician remember include relevant detailsbeyond make content edit ehr ai algorithms evaluate individual patients record predict risk disease base previous information family history one general algorithm rulebased system make decisions similarly humans use flow chart system take large amount data create set rule connect specific observations conclude diagnose thus algorithm take new patients data try predict likeliness certain condition disease since algorithms evaluate patients information base collective data find outstanding issue bring physicians attention save time one study conduct centerstone research institute find predictive model ehr data achieve 70–72 accuracy predict individualize treatment response methods helpful due fact amount online health record double every five years physicians bandwidth process data manually ai leverage data assist physicians treat patients drug interactions improvements natural language process lead development algorithms identify drugdrug interactions medical literature drugdrug interactions pose threat take multiple medications simultaneously danger increase number medications take address difficulty track know suspect drugdrug interactions machine learn algorithms create extract information interact drug possible effect medical literature efforts consolidate 2013 ddiextraction challenge team researchers carlos iii university assemble corpus literature drugdrug interactions form standardize test algorithms competitors test ability accurately determine text drug show interact characteristics interactions researchers continue use corpus standardize measurement effectiveness algorithmsother algorithms identify drugdrug interactions pattern usergenerated content especially electronic health record andor adverse event report organizations fda adverse event report system faers world health organizations vigibase allow doctor submit report possible negative reactions medications deep learn algorithms develop parse report detect pattern imply drugdrug interactions industry trend large health company merge allow greater health data accessibility greater health data lay groundwork implementation ai algorithms large part industry focus implementation ai healthcare sector clinical decision support systems data collect machine learn algorithms adapt allow robust responses solutions numerous company explore possibilities incorporation big data healthcare industry many company investigate market opportunities realms data assessment storage management analysis technologies crucial part healthcare industrythe follow examples large company contribute ai algorithms use healthcare ibms watson oncology development memorial sloan kettering cancer center cleveland clinic ibm also work cvs health ai applications chronic disease treatment johnson johnson analysis scientific paper find new connections drug development may 2017 ibm rensselaer polytechnic institute begin joint project entitle health empowerment analytics learn semantics heal explore use ai technology enhance healthcare microsofts hanover project partnership oregon health science universitys knight cancer institute analyze medical research predict effective cancer drug treatment options patients project include medical image analysis tumor progression development programmable cells google deepmind platform use uk national health service detect certain health risk data collect via mobile app second project nhs involve analysis medical image collect nhs patients develop computer vision algorithms detect cancerous tissue tencent work several medical systems service include ai medical innovation system aimis aipowered diagnostic medical image service wechat intelligent healthcare tencent doctorwork intels venture capital arm intel capital recently invest startup lumiata use ai identify atrisk patients develop care options neuralink come nextgeneration neuroprosthetic intricately interfaces thousands neural pathways brain process allow chip roughly size quarter insert place chunk skull precision surgical robot avoid accidental injury digital consultant apps like use ai give medical consultation base personal medical history common medical knowledge users report symptoms app use speech recognition compare database illnesses babylon offer recommend action take account users medical history entrepreneurs healthcare effectively use seven business model archetypes take ai solutionbuzzword marketplace archetypes depend value generate target user eg patient focus vs healthcare provider payer focus value capture mechanisms eg provide information connect stakeholders iflytek launch service robot xiao man integrate artificial intelligence technology identify register customer provide personalize recommendations medical areas also work field medical image similar robots also make company ubtech cruzr softbank robotics pepper indian startup haptik recently develop whatsapp chatbot answer question associate deadly coronavirus india market ai expand constantly large tech company apple google amazon baidu ai research divisions well millions dollars allocate acquisition smaller ai base company many automobile manufacturers begin use machine learn healthcare cars well company bmw ge tesla toyota volvo new research campaign find ways learn drivers vital statistics ensure awake pay attention road influence substances emotional distress expand care develop nations artificial intelligence continue expand abilities diagnose people accurately nations fewer doctor accessible public many new technology company spacex raspberry pi foundation enable develop countries access computers internet ever increase capabilities ai internet advance machine learn algorithms allow patients get accurately diagnose would previously way know lifethreatening disease notusing ai develop nations resources diminish need outsource improve patient care ai allow diagnosis patient areas healthcare scarce also allow good patient experience resourcing file find best treatment patient ability ai adjust course go also allow patient treatment modify base work level individualize care nearly nonexistent develop countries regulation research use ai healthcare aim validate efficacy improve patient outcomes broader adoption use may nonetheless introduce several new type risk patients healthcare providers algorithmic bias resuscitate implications machine morality issue challenge clinical use ai bring upon potential need regulations currently regulations pertain collection patient data include policies health insurance portability accountability act hipaa european general data protection regulation gdpr gdpr pertain patients within eu detail consent requirements patient data use entities collect patient healthcare data similarly hipaa protect healthcare data patient record unite state may 2016 white house announce plan host series workshops formation national science technology council nstc subcommittee machine learn artificial intelligence october 2016 group publish national artificial intelligence research development strategic plan outline propose priorities federallyfunded ai research development within government academia report note strategic rd plan subfield health information technology development stagesthe agency express concern fda bakul patel associate center director digital health fda quote say may 2017 try get people handson development experience products full life cycle already scientists know artificial intelligence machine learn want complementary people look forward see technology evolve joint ituwho focus group artificial intelligence health fgai4h build platform test benchmarking ai applications health domain november 2018 eight use case benchmarked include assess breast cancer risk histopathological imagery guide antivenom selection snake image diagnose skin lesions january 2021 fda publish new action plan entitle artificial intelligencemachine learningaimlbased software medical device samd action plan plan lay fdas future plan regulation medical devices would include artificial intelligence software five main action fda plan take increase regulation 1 tailor regulatory framework aimbased samd 2 good machine learn practice gmlp 3 patientcentered approach incorporate transparency users 4 regulatory science methods relate algorithm bias robustness 5 realworld performancerwp plan direct response stakeholders feedback 2019 discussion paper also publish fda accord us department health human service office civil right ocr issue guidance ethical use ai healthcare guidance outline four core ethical principles must follow respect autonomy beneficence nonmaleficence justice respect autonomy require individuals control data decisions beneficence require ai use good improve quality care reduce health disparities nonmaleficence require ai use harm avoid discrimination decisions finally justice require ai use fairly use standards decisions matter person’s race gender income level ocr also issue rule regulations protect privacy individuals’ health information regulations require healthcare providers follow certain privacy rule use ai ocr also require healthcare providers keep record use ai ensure ai systems secure overall us take step protect individuals’ privacy ethical issue relate ai healthcarethe us country develop initiate regulations data privacy ai countries implement data protection regulations specifically company privacy invasions denmark danish expert group data ethics adopt recommendations data benefit people recommendations intend encourage responsible use data business sector focus data process recommendations include focus equality nondiscrimination regard bias ai well human dignity importance human dignity stress say outweigh profit must respect data processesthe european union implement general data protection regulation gdpr protect citizens personal data apply use ai healthcare addition european commission establish guidelines ensure ethical development ai include use algorithms ensure fairness transparency gdpr european union first regulate ai data protection legislation union find privacy fundamental human right want prevent unconsented secondary use data private public health facilities streamline access personal data health research find able instate right importance patient privacy unite state health insurance portability accountability act hipaa require organizations protect privacy security patient information center medicare medicaid service also release guidelines development aibased medical applications ethical concern data collection order effectively train machine learn use ai healthcare massive amount data must gather acquire data however come cost patient privacy case well receive publicly example survey conduct uk estimate 63 population uncomfortable share personal data order improve artificial intelligence technology scarcity real accessible patient data hindrance deter progress develop deploy artificial intelligence healthcare automation accord recent study ai replace 35 job uk within next 10 20 years however job conclude ai eliminate healthcare job far though ai automate healthcare relate job job susceptible automation would deal digital information radiology pathology oppose deal doctor patient interactionautomation provide benefit alongside doctor well expect doctor take advantage ai healthcare provide greater quality healthcare doctor medical establishments ai likely completely replace healthcare workers rather give time attend patients ai may avert healthcare worker burnout cognitive overload ai ultimately help contribute progression societal goals include better communication improve quality healthcare autonomyrecently many discussions healthcare experts term ai elder care relation elder care ai bots helpful guide older residents live assist live entertainment company bots allow staff home oneonone time resident bots also program ability able know different languages different type care depend patient’s condition bot ai machine mean go train machine use algorithms parse give data learn predict outcome relation situation hand bias since ai make decisions solely data receive input important data represent accurate patient demographics hospital set patients full knowledge predictive algorithms create calibrate therefore medical establishments unfairly code algorithms discriminate minorities prioritize profit rather provide optimal carethere also unintended bias algorithms exacerbate social healthcare inequities since ais decisions direct reflection input data data receive must accurate representation patient demographics white males overly represent medical data set therefore minimal patient data minorities lead ai make accurate predictions majority populations lead unintended worse medical outcomes minority populations collect data minority communities also lead medical discrimination instance hiv prevalent virus among minority communities hiv status use discriminate patients addition bias may arise sample selection different clinical systems use collect data may also impact ai functionality example radiographic systems outcomes eg resolution vary provider moreover clinician work practice position patient radiography also greatly influence data make comparability difficult however bias able eliminate careful implementation methodical collection representative data see also reference read'"
            ],
            "application/vnd.google.colaboratory.intrinsic+json": {
              "type": "string"
            }
          },
          "metadata": {},
          "execution_count": 16
        }
      ]
    },
    {
      "cell_type": "code",
      "source": [
        "df2 = pd.DataFrame(df['article'].apply(lambda x : pipeline.fit_transform(x)))"
      ],
      "metadata": {
        "id": "CMrgl5_OuifB"
      },
      "execution_count": null,
      "outputs": []
    },
    {
      "cell_type": "code",
      "source": [
        "from nltk.tokenize import word_tokenize\n",
        "\n",
        "# Define a function for tokenization\n",
        "def tokenize(X):\n",
        "    return word_tokenize(X)"
      ],
      "metadata": {
        "id": "rCpxr6ZxvHMT"
      },
      "execution_count": null,
      "outputs": []
    },
    {
      "cell_type": "code",
      "source": [
        "tokenize('This is me')"
      ],
      "metadata": {
        "colab": {
          "base_uri": "https://localhost:8080/"
        },
        "id": "V4JbaCl2A_T6",
        "outputId": "e0a3d128-66e2-4d9e-af38-b213048d69c9"
      },
      "execution_count": null,
      "outputs": [
        {
          "output_type": "execute_result",
          "data": {
            "text/plain": [
              "['This', 'is', 'me']"
            ]
          },
          "metadata": {},
          "execution_count": 19
        }
      ]
    },
    {
      "cell_type": "code",
      "source": [
        "from sklearn.datasets import make_multilabel_classification\n",
        "X, _ = make_multilabel_classification(random_state=0)"
      ],
      "metadata": {
        "id": "YyuOPsOvBB_K"
      },
      "execution_count": null,
      "outputs": []
    },
    {
      "cell_type": "code",
      "source": [
        "X[0][0]"
      ],
      "metadata": {
        "colab": {
          "base_uri": "https://localhost:8080/"
        },
        "id": "l2SQxaceEz7I",
        "outputId": "ee104fd1-fb10-4e28-9bbe-3996f71eb2ed"
      },
      "execution_count": null,
      "outputs": [
        {
          "output_type": "execute_result",
          "data": {
            "text/plain": [
              "3.0"
            ]
          },
          "metadata": {},
          "execution_count": 21
        }
      ]
    },
    {
      "cell_type": "code",
      "source": [
        "df2['article']"
      ],
      "metadata": {
        "colab": {
          "base_uri": "https://localhost:8080/"
        },
        "id": "qpFJexOR1FAY",
        "outputId": "576a252b-3748-44e5-e339-62f33fc80d6e"
      },
      "execution_count": null,
      "outputs": [
        {
          "output_type": "execute_result",
          "data": {
            "text/plain": [
              "0    artificial intelligence healthcare overarch te...\n",
              "1    health informatics field science engineer aim ...\n",
              "2    healthcare unite state far outspent nation mea...\n",
              "3    healthcaregov health insurance exchange websit...\n",
              "4    information science also know information stud...\n",
              "5    follow outline provide overview topical guide ...\n",
              "6    hca healthcare american forprofit operator hea...\n",
              "7    big data primarily refer data set large comple...\n",
              "8    india multipayer universal health care model p...\n",
              "9    fast healthcare interoperability resources fhi...\n",
              "Name: article, dtype: object"
            ]
          },
          "metadata": {},
          "execution_count": 23
        }
      ]
    },
    {
      "cell_type": "code",
      "source": [
        "count_vec = CountVectorizer(stop_words='english')\n",
        "DTM = count_vec.fit_transform(df2['article'].values.astype('U'))\n",
        "DTM"
      ],
      "metadata": {
        "colab": {
          "base_uri": "https://localhost:8080/"
        },
        "id": "IKRKzxY-E3dH",
        "outputId": "cedd3042-e8ad-4142-fc99-5ed12ca413bc"
      },
      "execution_count": null,
      "outputs": [
        {
          "output_type": "execute_result",
          "data": {
            "text/plain": [
              "<10x6198 sparse matrix of type '<class 'numpy.int64'>'\n",
              "\twith 12128 stored elements in Compressed Sparse Row format>"
            ]
          },
          "metadata": {},
          "execution_count": 26
        }
      ]
    },
    {
      "cell_type": "code",
      "source": [
        "count_vec.get_feature_names_out()[1000],len(count_vec.get_feature_names_out())"
      ],
      "metadata": {
        "colab": {
          "base_uri": "https://localhost:8080/"
        },
        "id": "RYUMy8k_1_Im",
        "outputId": "3e8b342a-40a1-4d17-f713-849a0e5eaf3f"
      },
      "execution_count": null,
      "outputs": [
        {
          "output_type": "execute_result",
          "data": {
            "text/plain": [
              "('big', 6198)"
            ]
          },
          "metadata": {},
          "execution_count": 33
        }
      ]
    },
    {
      "cell_type": "code",
      "source": [
        "LDA = LatentDirichletAllocation(n_components=5,random_state=1,max_iter=5,learning_method=\"online\",learning_offset=50.0,)\n",
        "LDA.fit(DTM)"
      ],
      "metadata": {
        "colab": {
          "base_uri": "https://localhost:8080/"
        },
        "id": "mQq65bWa1P8Q",
        "outputId": "cb5520ec-e1b3-4f39-fb51-d0af3ba8883c"
      },
      "execution_count": null,
      "outputs": [
        {
          "output_type": "execute_result",
          "data": {
            "text/plain": [
              "LatentDirichletAllocation(learning_method='online', learning_offset=50.0,\n",
              "                          max_iter=5, n_components=5, random_state=1)"
            ]
          },
          "metadata": {},
          "execution_count": 34
        }
      ]
    },
    {
      "cell_type": "code",
      "source": [
        "LDA.components_.argsort()[: -20 - 1 : -1]"
      ],
      "metadata": {
        "colab": {
          "base_uri": "https://localhost:8080/"
        },
        "id": "1-5XKFw41vnr",
        "outputId": "e76e15f4-106a-47a7-894a-7d8e0451c83d"
      },
      "execution_count": null,
      "outputs": [
        {
          "output_type": "execute_result",
          "data": {
            "text/plain": [
              "array([[4849, 6114, 5078, ..., 1000, 3066, 1755],\n",
              "       [5353, 3973, 5580, ..., 1755, 2749, 2747],\n",
              "       [5806, 4204, 1606, ..., 3646, 1755, 2747],\n",
              "       [5183, 4898, 2364, ..., 3646, 1755, 2747],\n",
              "       [3619, 1762,  954, ..., 1180, 2749, 2747]])"
            ]
          },
          "metadata": {},
          "execution_count": 38
        }
      ]
    },
    {
      "cell_type": "code",
      "source": [
        "# n_components = Topics\n",
        "# argsort = will sort the probabilities and provides their index\n",
        "# [::-1] = To make it descending\n",
        "# [:10] = Top 10 features names index will be given\n",
        "\n",
        "LDA.components_[0].argsort()[::-1][:10]"
      ],
      "metadata": {
        "colab": {
          "base_uri": "https://localhost:8080/"
        },
        "id": "xqaDVL2l5nWV",
        "outputId": "4117f1be-6dd5-48ee-ddf1-bb61b7a68de3"
      },
      "execution_count": null,
      "outputs": [
        {
          "output_type": "execute_result",
          "data": {
            "text/plain": [
              "array([2747, 2749, 1180, 3125, 5372, 3646, 5147, 1636, 5438, 2992])"
            ]
          },
          "metadata": {},
          "execution_count": 58
        }
      ]
    },
    {
      "cell_type": "code",
      "source": [
        "top_feature_names = [count_vec.get_feature_names_out()[i] for i in LDA.components_[0].argsort()[::-1][:10]]\n",
        "top_feature_names"
      ],
      "metadata": {
        "colab": {
          "base_uri": "https://localhost:8080/"
        },
        "id": "oBtwg8TQ7LZr",
        "outputId": "2c820cdc-47f1-4ac5-d587-444c53bc6dd0"
      },
      "execution_count": null,
      "outputs": [
        {
          "output_type": "execute_result",
          "data": {
            "text/plain": [
              "['health',\n",
              " 'healthcare',\n",
              " 'care',\n",
              " 'insurance',\n",
              " 'state',\n",
              " 'medical',\n",
              " 'service',\n",
              " 'cost',\n",
              " 'study',\n",
              " 'include']"
            ]
          },
          "metadata": {},
          "execution_count": 69
        }
      ]
    },
    {
      "cell_type": "code",
      "source": [
        "#@title Top 10 Feature Names\n",
        "component = 0 #@param {type:\"slider\", min:0, max:5, step:1}\n",
        "df = pd.DataFrame({'Feature Name': top_feature_names, 'Frequency': sorted(LDA.components_[component][:10],reverse = True)})\n",
        "\n",
        "# Use Plotly Express to create a horizontal bar plot\n",
        "fig = px.bar(df, x='Frequency', y='Feature Name', orientation='h')\n",
        "fig.show()"
      ],
      "metadata": {
        "colab": {
          "base_uri": "https://localhost:8080/",
          "height": 542
        },
        "cellView": "form",
        "id": "YaF-9XpO8LFN",
        "outputId": "ffd8faff-ce83-427d-895d-03669d075c98"
      },
      "execution_count": null,
      "outputs": [
        {
          "output_type": "display_data",
          "data": {
            "text/html": [
              "<html>\n",
              "<head><meta charset=\"utf-8\" /></head>\n",
              "<body>\n",
              "    <div>            <script src=\"https://cdnjs.cloudflare.com/ajax/libs/mathjax/2.7.5/MathJax.js?config=TeX-AMS-MML_SVG\"></script><script type=\"text/javascript\">if (window.MathJax) {MathJax.Hub.Config({SVG: {font: \"STIX-Web\"}});}</script>                <script type=\"text/javascript\">window.PlotlyConfig = {MathJaxConfig: 'local'};</script>\n",
              "        <script src=\"https://cdn.plot.ly/plotly-2.8.3.min.js\"></script>                <div id=\"19d3463a-7367-4749-9313-bbdf097907a1\" class=\"plotly-graph-div\" style=\"height:525px; width:100%;\"></div>            <script type=\"text/javascript\">                                    window.PLOTLYENV=window.PLOTLYENV || {};                                    if (document.getElementById(\"19d3463a-7367-4749-9313-bbdf097907a1\")) {                    Plotly.newPlot(                        \"19d3463a-7367-4749-9313-bbdf097907a1\",                        [{\"alignmentgroup\":\"True\",\"hovertemplate\":\"Frequency=%{x}<br>Feature Name=%{y}<extra></extra>\",\"legendgroup\":\"\",\"marker\":{\"color\":\"#636efa\",\"pattern\":{\"shape\":\"\"}},\"name\":\"\",\"offsetgroup\":\"\",\"orientation\":\"h\",\"showlegend\":false,\"textposition\":\"auto\",\"x\":[3.4362927033484896,1.6069630288351573,1.1716448548263665,1.1483393241256896,0.9987820589239863,0.9616538036663189,0.9515031444960214,0.9273030977631871,0.9193281309663409,0.9101847457353496],\"xaxis\":\"x\",\"y\":[\"health\",\"healthcare\",\"care\",\"insurance\",\"state\",\"medical\",\"service\",\"cost\",\"study\",\"include\"],\"yaxis\":\"y\",\"type\":\"bar\"}],                        {\"template\":{\"data\":{\"bar\":[{\"error_x\":{\"color\":\"#2a3f5f\"},\"error_y\":{\"color\":\"#2a3f5f\"},\"marker\":{\"line\":{\"color\":\"#E5ECF6\",\"width\":0.5},\"pattern\":{\"fillmode\":\"overlay\",\"size\":10,\"solidity\":0.2}},\"type\":\"bar\"}],\"barpolar\":[{\"marker\":{\"line\":{\"color\":\"#E5ECF6\",\"width\":0.5},\"pattern\":{\"fillmode\":\"overlay\",\"size\":10,\"solidity\":0.2}},\"type\":\"barpolar\"}],\"carpet\":[{\"aaxis\":{\"endlinecolor\":\"#2a3f5f\",\"gridcolor\":\"white\",\"linecolor\":\"white\",\"minorgridcolor\":\"white\",\"startlinecolor\":\"#2a3f5f\"},\"baxis\":{\"endlinecolor\":\"#2a3f5f\",\"gridcolor\":\"white\",\"linecolor\":\"white\",\"minorgridcolor\":\"white\",\"startlinecolor\":\"#2a3f5f\"},\"type\":\"carpet\"}],\"choropleth\":[{\"colorbar\":{\"outlinewidth\":0,\"ticks\":\"\"},\"type\":\"choropleth\"}],\"contour\":[{\"colorbar\":{\"outlinewidth\":0,\"ticks\":\"\"},\"colorscale\":[[0.0,\"#0d0887\"],[0.1111111111111111,\"#46039f\"],[0.2222222222222222,\"#7201a8\"],[0.3333333333333333,\"#9c179e\"],[0.4444444444444444,\"#bd3786\"],[0.5555555555555556,\"#d8576b\"],[0.6666666666666666,\"#ed7953\"],[0.7777777777777778,\"#fb9f3a\"],[0.8888888888888888,\"#fdca26\"],[1.0,\"#f0f921\"]],\"type\":\"contour\"}],\"contourcarpet\":[{\"colorbar\":{\"outlinewidth\":0,\"ticks\":\"\"},\"type\":\"contourcarpet\"}],\"heatmap\":[{\"colorbar\":{\"outlinewidth\":0,\"ticks\":\"\"},\"colorscale\":[[0.0,\"#0d0887\"],[0.1111111111111111,\"#46039f\"],[0.2222222222222222,\"#7201a8\"],[0.3333333333333333,\"#9c179e\"],[0.4444444444444444,\"#bd3786\"],[0.5555555555555556,\"#d8576b\"],[0.6666666666666666,\"#ed7953\"],[0.7777777777777778,\"#fb9f3a\"],[0.8888888888888888,\"#fdca26\"],[1.0,\"#f0f921\"]],\"type\":\"heatmap\"}],\"heatmapgl\":[{\"colorbar\":{\"outlinewidth\":0,\"ticks\":\"\"},\"colorscale\":[[0.0,\"#0d0887\"],[0.1111111111111111,\"#46039f\"],[0.2222222222222222,\"#7201a8\"],[0.3333333333333333,\"#9c179e\"],[0.4444444444444444,\"#bd3786\"],[0.5555555555555556,\"#d8576b\"],[0.6666666666666666,\"#ed7953\"],[0.7777777777777778,\"#fb9f3a\"],[0.8888888888888888,\"#fdca26\"],[1.0,\"#f0f921\"]],\"type\":\"heatmapgl\"}],\"histogram\":[{\"marker\":{\"pattern\":{\"fillmode\":\"overlay\",\"size\":10,\"solidity\":0.2}},\"type\":\"histogram\"}],\"histogram2d\":[{\"colorbar\":{\"outlinewidth\":0,\"ticks\":\"\"},\"colorscale\":[[0.0,\"#0d0887\"],[0.1111111111111111,\"#46039f\"],[0.2222222222222222,\"#7201a8\"],[0.3333333333333333,\"#9c179e\"],[0.4444444444444444,\"#bd3786\"],[0.5555555555555556,\"#d8576b\"],[0.6666666666666666,\"#ed7953\"],[0.7777777777777778,\"#fb9f3a\"],[0.8888888888888888,\"#fdca26\"],[1.0,\"#f0f921\"]],\"type\":\"histogram2d\"}],\"histogram2dcontour\":[{\"colorbar\":{\"outlinewidth\":0,\"ticks\":\"\"},\"colorscale\":[[0.0,\"#0d0887\"],[0.1111111111111111,\"#46039f\"],[0.2222222222222222,\"#7201a8\"],[0.3333333333333333,\"#9c179e\"],[0.4444444444444444,\"#bd3786\"],[0.5555555555555556,\"#d8576b\"],[0.6666666666666666,\"#ed7953\"],[0.7777777777777778,\"#fb9f3a\"],[0.8888888888888888,\"#fdca26\"],[1.0,\"#f0f921\"]],\"type\":\"histogram2dcontour\"}],\"mesh3d\":[{\"colorbar\":{\"outlinewidth\":0,\"ticks\":\"\"},\"type\":\"mesh3d\"}],\"parcoords\":[{\"line\":{\"colorbar\":{\"outlinewidth\":0,\"ticks\":\"\"}},\"type\":\"parcoords\"}],\"pie\":[{\"automargin\":true,\"type\":\"pie\"}],\"scatter\":[{\"marker\":{\"colorbar\":{\"outlinewidth\":0,\"ticks\":\"\"}},\"type\":\"scatter\"}],\"scatter3d\":[{\"line\":{\"colorbar\":{\"outlinewidth\":0,\"ticks\":\"\"}},\"marker\":{\"colorbar\":{\"outlinewidth\":0,\"ticks\":\"\"}},\"type\":\"scatter3d\"}],\"scattercarpet\":[{\"marker\":{\"colorbar\":{\"outlinewidth\":0,\"ticks\":\"\"}},\"type\":\"scattercarpet\"}],\"scattergeo\":[{\"marker\":{\"colorbar\":{\"outlinewidth\":0,\"ticks\":\"\"}},\"type\":\"scattergeo\"}],\"scattergl\":[{\"marker\":{\"colorbar\":{\"outlinewidth\":0,\"ticks\":\"\"}},\"type\":\"scattergl\"}],\"scattermapbox\":[{\"marker\":{\"colorbar\":{\"outlinewidth\":0,\"ticks\":\"\"}},\"type\":\"scattermapbox\"}],\"scatterpolar\":[{\"marker\":{\"colorbar\":{\"outlinewidth\":0,\"ticks\":\"\"}},\"type\":\"scatterpolar\"}],\"scatterpolargl\":[{\"marker\":{\"colorbar\":{\"outlinewidth\":0,\"ticks\":\"\"}},\"type\":\"scatterpolargl\"}],\"scatterternary\":[{\"marker\":{\"colorbar\":{\"outlinewidth\":0,\"ticks\":\"\"}},\"type\":\"scatterternary\"}],\"surface\":[{\"colorbar\":{\"outlinewidth\":0,\"ticks\":\"\"},\"colorscale\":[[0.0,\"#0d0887\"],[0.1111111111111111,\"#46039f\"],[0.2222222222222222,\"#7201a8\"],[0.3333333333333333,\"#9c179e\"],[0.4444444444444444,\"#bd3786\"],[0.5555555555555556,\"#d8576b\"],[0.6666666666666666,\"#ed7953\"],[0.7777777777777778,\"#fb9f3a\"],[0.8888888888888888,\"#fdca26\"],[1.0,\"#f0f921\"]],\"type\":\"surface\"}],\"table\":[{\"cells\":{\"fill\":{\"color\":\"#EBF0F8\"},\"line\":{\"color\":\"white\"}},\"header\":{\"fill\":{\"color\":\"#C8D4E3\"},\"line\":{\"color\":\"white\"}},\"type\":\"table\"}]},\"layout\":{\"annotationdefaults\":{\"arrowcolor\":\"#2a3f5f\",\"arrowhead\":0,\"arrowwidth\":1},\"autotypenumbers\":\"strict\",\"coloraxis\":{\"colorbar\":{\"outlinewidth\":0,\"ticks\":\"\"}},\"colorscale\":{\"diverging\":[[0,\"#8e0152\"],[0.1,\"#c51b7d\"],[0.2,\"#de77ae\"],[0.3,\"#f1b6da\"],[0.4,\"#fde0ef\"],[0.5,\"#f7f7f7\"],[0.6,\"#e6f5d0\"],[0.7,\"#b8e186\"],[0.8,\"#7fbc41\"],[0.9,\"#4d9221\"],[1,\"#276419\"]],\"sequential\":[[0.0,\"#0d0887\"],[0.1111111111111111,\"#46039f\"],[0.2222222222222222,\"#7201a8\"],[0.3333333333333333,\"#9c179e\"],[0.4444444444444444,\"#bd3786\"],[0.5555555555555556,\"#d8576b\"],[0.6666666666666666,\"#ed7953\"],[0.7777777777777778,\"#fb9f3a\"],[0.8888888888888888,\"#fdca26\"],[1.0,\"#f0f921\"]],\"sequentialminus\":[[0.0,\"#0d0887\"],[0.1111111111111111,\"#46039f\"],[0.2222222222222222,\"#7201a8\"],[0.3333333333333333,\"#9c179e\"],[0.4444444444444444,\"#bd3786\"],[0.5555555555555556,\"#d8576b\"],[0.6666666666666666,\"#ed7953\"],[0.7777777777777778,\"#fb9f3a\"],[0.8888888888888888,\"#fdca26\"],[1.0,\"#f0f921\"]]},\"colorway\":[\"#636efa\",\"#EF553B\",\"#00cc96\",\"#ab63fa\",\"#FFA15A\",\"#19d3f3\",\"#FF6692\",\"#B6E880\",\"#FF97FF\",\"#FECB52\"],\"font\":{\"color\":\"#2a3f5f\"},\"geo\":{\"bgcolor\":\"white\",\"lakecolor\":\"white\",\"landcolor\":\"#E5ECF6\",\"showlakes\":true,\"showland\":true,\"subunitcolor\":\"white\"},\"hoverlabel\":{\"align\":\"left\"},\"hovermode\":\"closest\",\"mapbox\":{\"style\":\"light\"},\"paper_bgcolor\":\"white\",\"plot_bgcolor\":\"#E5ECF6\",\"polar\":{\"angularaxis\":{\"gridcolor\":\"white\",\"linecolor\":\"white\",\"ticks\":\"\"},\"bgcolor\":\"#E5ECF6\",\"radialaxis\":{\"gridcolor\":\"white\",\"linecolor\":\"white\",\"ticks\":\"\"}},\"scene\":{\"xaxis\":{\"backgroundcolor\":\"#E5ECF6\",\"gridcolor\":\"white\",\"gridwidth\":2,\"linecolor\":\"white\",\"showbackground\":true,\"ticks\":\"\",\"zerolinecolor\":\"white\"},\"yaxis\":{\"backgroundcolor\":\"#E5ECF6\",\"gridcolor\":\"white\",\"gridwidth\":2,\"linecolor\":\"white\",\"showbackground\":true,\"ticks\":\"\",\"zerolinecolor\":\"white\"},\"zaxis\":{\"backgroundcolor\":\"#E5ECF6\",\"gridcolor\":\"white\",\"gridwidth\":2,\"linecolor\":\"white\",\"showbackground\":true,\"ticks\":\"\",\"zerolinecolor\":\"white\"}},\"shapedefaults\":{\"line\":{\"color\":\"#2a3f5f\"}},\"ternary\":{\"aaxis\":{\"gridcolor\":\"white\",\"linecolor\":\"white\",\"ticks\":\"\"},\"baxis\":{\"gridcolor\":\"white\",\"linecolor\":\"white\",\"ticks\":\"\"},\"bgcolor\":\"#E5ECF6\",\"caxis\":{\"gridcolor\":\"white\",\"linecolor\":\"white\",\"ticks\":\"\"}},\"title\":{\"x\":0.05},\"xaxis\":{\"automargin\":true,\"gridcolor\":\"white\",\"linecolor\":\"white\",\"ticks\":\"\",\"title\":{\"standoff\":15},\"zerolinecolor\":\"white\",\"zerolinewidth\":2},\"yaxis\":{\"automargin\":true,\"gridcolor\":\"white\",\"linecolor\":\"white\",\"ticks\":\"\",\"title\":{\"standoff\":15},\"zerolinecolor\":\"white\",\"zerolinewidth\":2}}},\"xaxis\":{\"anchor\":\"y\",\"domain\":[0.0,1.0],\"title\":{\"text\":\"Frequency\"}},\"yaxis\":{\"anchor\":\"x\",\"domain\":[0.0,1.0],\"title\":{\"text\":\"Feature Name\"}},\"legend\":{\"tracegroupgap\":0},\"margin\":{\"t\":60},\"barmode\":\"relative\"},                        {\"responsive\": true}                    ).then(function(){\n",
              "                            \n",
              "var gd = document.getElementById('19d3463a-7367-4749-9313-bbdf097907a1');\n",
              "var x = new MutationObserver(function (mutations, observer) {{\n",
              "        var display = window.getComputedStyle(gd).display;\n",
              "        if (!display || display === 'none') {{\n",
              "            console.log([gd, 'removed!']);\n",
              "            Plotly.purge(gd);\n",
              "            observer.disconnect();\n",
              "        }}\n",
              "}});\n",
              "\n",
              "// Listen for the removal of the full notebook cells\n",
              "var notebookContainer = gd.closest('#notebook-container');\n",
              "if (notebookContainer) {{\n",
              "    x.observe(notebookContainer, {childList: true});\n",
              "}}\n",
              "\n",
              "// Listen for the clearing of the current output cell\n",
              "var outputEl = gd.closest('.output');\n",
              "if (outputEl) {{\n",
              "    x.observe(outputEl, {childList: true});\n",
              "}}\n",
              "\n",
              "                        })                };                            </script>        </div>\n",
              "</body>\n",
              "</html>"
            ]
          },
          "metadata": {}
        }
      ]
    }
  ]
}